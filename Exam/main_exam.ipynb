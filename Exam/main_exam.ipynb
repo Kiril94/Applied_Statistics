{
 "cells": [
  {
   "cell_type": "markdown",
   "metadata": {},
   "source": [
    "Author: Kiril Klein "
   ]
  },
  {
   "cell_type": "code",
   "execution_count": 11,
   "metadata": {
    "scrolled": true
   },
   "outputs": [
    {
     "data": {
      "text/plain": [
       "<module 'vis' from 'D:\\\\Master\\\\Blok2\\\\Applied_Statistics\\\\Exam\\\\vis.py'>"
      ]
     },
     "execution_count": 11,
     "metadata": {},
     "output_type": "execute_result"
    }
   ],
   "source": [
    "import numpy as np\n",
    "import importlib\n",
    "from scipy import stats\n",
    "import fits, vis, as_toolbox #custom moduls\n",
    "import matplotlib.pyplot as plt\n",
    "from sklearn.discriminant_analysis import LinearDiscriminantAnalysis#Fisher discriminant\n",
    "from sklearn import metrics\n",
    "from IPython.display import Image\n",
    "import sympy as sp\n",
    "importlib.reload(vis)"
   ]
  },
  {
   "cell_type": "markdown",
   "metadata": {},
   "source": [
    "\\textbf{Checklist}\n",
    "\\begin{itemize}\n",
    "\\item Remember to multiply function by binwidth to get right results for chi2 fit\n",
    "\\item Use Ullh for low statistics (tails for example)\n",
    "\\item For Hypothesis testing use: metrics.plot_curve, metrics.RocCurveDisplay\n",
    "\\item For ML classification use sklearn.ensemble.AdaBoostClassifier\n",
    "\\item if N>20 or variance known z-test, else t-test (e.g. stats.ttest_rel)\n",
    "\\item In addition to chi2 one can check with WW runs test \\\n",
    "\\item statsmodels.sandbox.stats.runs.runstest_2samp\n",
    "\\end{itemize}"
   ]
  },
  {
   "cell_type": "code",
   "execution_count": 2,
   "metadata": {},
   "outputs": [],
   "source": [
    "def double_gauss_one_mean(x, N, f, mu, sig1, sig2):\n",
    "    return binwidth*N*(f*stats.norm.pdf(x,mu,sig1)+(1-f)*stats.norm.pdf(x,mu,sig2))\n",
    "def gauss(x,N,mu,sig): return binwidth*N*stats.norm.pdf(x,mu,sig)"
   ]
  },
  {
   "cell_type": "markdown",
   "metadata": {},
   "source": [
    "\\begin{figure} [H]\n",
    "    \\centering\n",
    "    \\includegraphics[width = 15cm]{test.png}\n",
    "    \\caption{$\\chi^2$ fit caption.}\n",
    "\\end{figure}"
   ]
  },
  {
   "cell_type": "markdown",
   "metadata": {},
   "source": [
    "![title](distr.png) show figure"
   ]
  },
  {
   "cell_type": "markdown",
   "metadata": {
    "heading_collapsed": true
   },
   "source": [
    "# Distributions and Probabilites "
   ]
  },
  {
   "cell_type": "markdown",
   "metadata": {
    "hidden": true
   },
   "source": [
    "\\begin{itemize}\n",
    "\n",
    "\\item\n",
    "\\begin{equation}\n",
    "P(k;n,p) = \\binom{n}{k}p^k(1-p)^{n-k}\\,.\n",
    "\\end{equation}\n",
    "\n",
    "\\end{itemize}"
   ]
  },
  {
   "cell_type": "markdown",
   "metadata": {
    "heading_collapsed": true
   },
   "source": [
    "# Error propagation \n"
   ]
  },
  {
   "cell_type": "markdown",
   "metadata": {
    "hidden": true
   },
   "source": [
    "\\begin{itemize}\n",
    "\n",
    "\\item\n",
    "\n",
    "\\end{itemize}"
   ]
  },
  {
   "cell_type": "markdown",
   "metadata": {
    "heading_collapsed": true
   },
   "source": [
    "# Monte Carlo "
   ]
  },
  {
   "cell_type": "markdown",
   "metadata": {
    "hidden": true
   },
   "source": [
    "For integration use: sp.integrate(f, (x,a,b)) or for ind. sp. integrate(f, x))\\\n",
    "where x should be a symbol and f should be defined as e.g. f = x**2 + sp.sqrt(x)..."
   ]
  },
  {
   "cell_type": "markdown",
   "metadata": {
    "hidden": true
   },
   "source": [
    "To be normalized  $f(x)$ should fulfill:\n",
    "\\begin{equation}\n",
    "    \\int_{x0}^{x1}dx'\\;C\\cdot  f(x') =1\\,.\n",
    "\\end{equation}\n",
    "Solving for the constant gives $C \\approx \\,$.\\\n",
    "The integral $F(x) = \\int_{-\\infty}^xdx'f(x')$ is "
   ]
  },
  {
   "cell_type": "markdown",
   "metadata": {
    "heading_collapsed": true
   },
   "source": [
    "# Fitting Data "
   ]
  },
  {
   "cell_type": "markdown",
   "metadata": {
    "hidden": true
   },
   "source": [
    "\\begin{itemize}\n",
    "\n",
    "\\item\n",
    "\n",
    "\\end{itemize}"
   ]
  },
  {
   "cell_type": "markdown",
   "metadata": {
    "heading_collapsed": true
   },
   "source": [
    "# Statisitcal Tests "
   ]
  },
  {
   "cell_type": "markdown",
   "metadata": {
    "hidden": true
   },
   "source": [
    "|     | $H_0$ true | $H_0$ false     |\n",
    "| :---        |    :----:   |          ---: |\n",
    "| Accept $H_0$    | $\\checkmark$      | Type II   |\n",
    "| Reject $H_0$  | Type I        | $\\checkmark$      |"
   ]
  },
  {
   "cell_type": "markdown",
   "metadata": {
    "hidden": true
   },
   "source": [
    "\\begin{itemize}\n",
    "\n",
    "\\item\n",
    "\n",
    "\\end{itemize}"
   ]
  }
 ],
 "metadata": {
  "kernelspec": {
   "display_name": "Python 3",
   "language": "python",
   "name": "python3"
  },
  "language_info": {
   "codemirror_mode": {
    "name": "ipython",
    "version": 3
   },
   "file_extension": ".py",
   "mimetype": "text/x-python",
   "name": "python",
   "nbconvert_exporter": "python",
   "pygments_lexer": "ipython3",
   "version": "3.6.10"
  },
  "latex_envs": {
   "LaTeX_envs_menu_present": true,
   "autoclose": true,
   "autocomplete": true,
   "bibliofile": "biblio.bib",
   "cite_by": "apalike",
   "current_citInitial": 1,
   "eqLabelWithNumbers": true,
   "eqNumInitial": 1,
   "hotkeys": {
    "equation": "Ctrl-E",
    "itemize": "Ctrl-I"
   },
   "labels_anchors": false,
   "latex_user_defs": false,
   "report_style_numbering": true,
   "user_envs_cfg": false
  },
  "toc": {
   "base_numbering": 1,
   "nav_menu": {},
   "number_sections": true,
   "sideBar": true,
   "skip_h1_title": false,
   "title_cell": "Table of Contents",
   "title_sidebar": "Contents",
   "toc_cell": false,
   "toc_position": {},
   "toc_section_display": true,
   "toc_window_display": false
  },
  "varInspector": {
   "cols": {
    "lenName": 16,
    "lenType": 16,
    "lenVar": 40
   },
   "kernels_config": {
    "python": {
     "delete_cmd_postfix": "",
     "delete_cmd_prefix": "del ",
     "library": "var_list.py",
     "varRefreshCmd": "print(var_dic_list())"
    },
    "r": {
     "delete_cmd_postfix": ") ",
     "delete_cmd_prefix": "rm(",
     "library": "var_list.r",
     "varRefreshCmd": "cat(var_dic_list()) "
    }
   },
   "types_to_exclude": [
    "module",
    "function",
    "builtin_function_or_method",
    "instance",
    "_Feature"
   ],
   "window_display": false
  }
 },
 "nbformat": 4,
 "nbformat_minor": 4
}
