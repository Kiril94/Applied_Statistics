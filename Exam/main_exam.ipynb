{
 "cells": [
  {
   "cell_type": "markdown",
   "metadata": {},
   "source": [
    "Author: Kiril Klein "
   ]
  },
  {
   "cell_type": "code",
   "execution_count": 2,
   "metadata": {
    "scrolled": true
   },
   "outputs": [],
   "source": [
    "import numpy as np\n",
    "import importlib\n",
    "from scipy import stats\n",
    "import fits, vis  #custom moduls\n",
    "import as_toolbox as ast\n",
    "import matplotlib.pyplot as plt\n",
    "from sklearn.discriminant_analysis import LinearDiscriminantAnalysis  #Fisher discriminant\n",
    "from sklearn import metrics\n",
    "from IPython.display import Image\n",
    "import sympy as sp\n",
    "from IPython.core.display import Latex\n",
    "from sympy import latex\n",
    "from mpl_toolkits.axes_grid1.inset_locator import inset_axes"
   ]
  },
  {
   "cell_type": "markdown",
   "metadata": {},
   "source": [
    "# Distributions and Probabilites "
   ]
  },
  {
   "cell_type": "markdown",
   "metadata": {
    "heading_collapsed": true
   },
   "source": [
    "## Dice "
   ]
  },
  {
   "cell_type": "code",
   "execution_count": 628,
   "metadata": {
    "hidden": true
   },
   "outputs": [],
   "source": [
    "k, P = np.arange(7, 21), 0\n",
    "p, N = 1 / 6, 20\n",
    "for i in k:\n",
    "    P += stats.binom.pmf(i, N, p)"
   ]
  },
  {
   "cell_type": "markdown",
   "metadata": {
    "hidden": true
   },
   "source": [
    "\\begin{itemize}\n",
    "\n",
    "\\item We are running $N=20$ independent trials and have two possible outcomes for each. Success, in case of a 3 with $p_\\text{success} = 1/6$ and failure else with $p_\\text{failure} = 5/6$. Repeating this experiment many times the distribution of $N_3$ will follow a \\textbf{Binomial distribution} $P_\\text{binom}(k; p_\\text{success} = 1/6, N = 20)\\,$ where $k$ denotes the number of successes.\n",
    "\n",
    "\\item Using the binomial distribution we can compute the probability of 7 or more 3's in a roll as follows:\n",
    "\\begin{equation}\n",
    "\\sum_{i=7}^{20} P(i;p_\\text{success} = 1/6,N = 20)  = \\mathbf{0.0371}\\,.\n",
    "\\end{equation}\n",
    "\n",
    "\\end{itemize}"
   ]
  },
  {
   "cell_type": "markdown",
   "metadata": {
    "heading_collapsed": true
   },
   "source": [
    "## Covid Test"
   ]
  },
  {
   "cell_type": "code",
   "execution_count": 185,
   "metadata": {
    "hidden": true
   },
   "outputs": [],
   "source": [
    "N_p, N_pp = 103261, 2464\n",
    "N_pn = N_p - N_pp\n",
    "N_a, N_ap = 26162, 491\n",
    "N_an = N_a - N_ap\n",
    "Npf = N_pp / N_p\n",
    "Naf = N_ap / N_a\n",
    "con_table = np.array([[N_pp, N_ap], [N_pn, N_an]])\n",
    "odds, p_value = stats.fisher_exact(con_table)\n",
    "#Npf, Naf"
   ]
  },
  {
   "cell_type": "code",
   "execution_count": 638,
   "metadata": {
    "hidden": true
   },
   "outputs": [
    {
     "data": {
      "text/plain": [
       "0.0009252313078269072"
      ]
     },
     "execution_count": 638,
     "metadata": {},
     "output_type": "execute_result"
    }
   ],
   "source": [
    "FPR, FNR = 0.02e-2, 0.2\n",
    "N, k = 50e3, 47\n",
    "a = 1/FPR - 1\n",
    "b = 1/FNR - 1 \n",
    "P = N -  (a+1)/(a*b-1)*( b*(N-k)-k  )\n",
    "P/N\n",
    "#NP"
   ]
  },
  {
   "cell_type": "markdown",
   "metadata": {
    "hidden": true
   },
   "source": [
    "\\begin{itemize}\n",
    "\\itemThe fraction of positives is $2.39\\%$ for PCR and $1.88\\%$ for Antigen. After choosing a significance level of $\\alpha = 5\\%$ a two sided Fisher's exact test is performed on the contingency table shown below.\n",
    "\\end{itemize}"
   ]
  },
  {
   "cell_type": "markdown",
   "metadata": {
    "hidden": true
   },
   "source": [
    "|          | Antigen | PCR    |\n",
    "|----------|---------|--------|\n",
    "| Positive | 491     | 2464   |\n",
    "| Negative | 25671   | 100797 |\n"
   ]
  },
  {
   "cell_type": "markdown",
   "metadata": {
    "hidden": true
   },
   "source": [
    "It provides a p-value of $\\mathbf{5.5\\cdot10^{-7}}$ (probability that fractions are the same) which is far below $\\alpha\\,$. Therefore, the null hypothesis that the fractions are statistically the same can be rejected. \n"
   ]
  },
  {
   "cell_type": "markdown",
   "metadata": {
    "hidden": true
   },
   "source": [
    "\\begin{itemize}\n",
    "\n",
    "\\item The false negative rate can be estimated \n",
    "\n",
    "\\end{itemize}"
   ]
  },
  {
   "cell_type": "markdown",
   "metadata": {
    "hidden": true
   },
   "source": [
    "\\begin{itemize}\n",
    "\n",
    "\\item To estimate the infected fraction $Pf = \\frac{TP + FN}{N}\\,$ where $N = 50000\\,$, we start with the False positive and false negative rates:\n",
    "\\begin{equation}\n",
    "    FPR = \\frac{FP}{FP + TN}\n",
    "\\end{equation}\n",
    "\\begin{equation}\n",
    "    FNR = \\frac{FN}{FN + TP}\n",
    "\\end{equation}\n",
    "Let \n",
    "\\begin{equation}\n",
    "    a = 1/FPR  -1\n",
    "\\end{equation}\n",
    "and \n",
    "\n",
    "\\begin{equation}\n",
    "    b = 1/FNR  -1\n",
    "\\end{equation}\n",
    "\n",
    "which allows as to write $FN = TP/b$ and $FP = TN/a\\,$.\n",
    "We know that $FP + TP = k$ and $FN + TN = N-k$ where $k = 47\\,$.\\\n",
    "Now we can rewrite:\n",
    "\\begin{equation}\n",
    "    TN/a + TP = k\\,,\n",
    "\\end{equation}\n",
    "and\n",
    "\\begin{equation}\n",
    "    TP/b + TN = N-k\\,.\n",
    "\\end{equation}\n",
    "\n",
    "Using these euqations we can solve for $Pf\\,$:\n",
    "\\begin{equation}\n",
    "    Pf = 1 - \\frac{a+1}{N(ab-1)}\\cdot\\big(b(N-k)-k \\big)\n",
    "\\end{equation}\n",
    "Inserting the values gives an infected fraction of $\\mathbf{0.093\\%}\\,$.\n",
    "\\end{itemize}\n"
   ]
  },
  {
   "cell_type": "markdown",
   "metadata": {},
   "source": [
    "## Spectrometer "
   ]
  },
  {
   "cell_type": "code",
   "execution_count": 207,
   "metadata": {
    "code_folding": []
   },
   "outputs": [
    {
     "name": "stderr",
     "output_type": "stream",
     "text": [
      "D:\\Master\\Blok2\\Applied_Statistics\\Exam\\vis.py:52: UserWarning: This figure includes Axes that are not compatible with tight_layout, so results might be incorrect.\n",
      "  fig.tight_layout()\n"
     ]
    },
    {
     "data": {
      "image/png": "[encoded data removed]",
      "text/plain": [
       "<Figure size 1080x648 with 3 Axes>"
      ]
     },
     "metadata": {},
     "output_type": "display_data"
    }
   ],
   "source": [
    "volt = ast.load_url_data(\"https://www.nbi.dk/~petersen/data_VoltagePeaks.txt\")\n",
    "x, y, sy, binwidth, fig, ax = vis.nice_histogram(\n",
    "    volt,100, show_plot=False, x_range= (-0.04,50), \n",
    "    ylog_scale = True,xlog_scale = False, xlabel = 'V', figsize = (15,9), legend_loc = 8, \n",
    "    data_label='Data (200 bins in [-0.04,50 ])', plot_hist = True, color_hist = 'b')\n",
    "inset_bbox = [.98,.95,11,2.5]\n",
    "axins = inset_axes(\n",
    "    ax, width = inset_bbox[2], height = inset_bbox[3], bbox_to_anchor =inset_bbox[:2],\n",
    "    bbox_transform=ax.figure.transFigure)\n",
    "inset_bbox2 = [.98,.55,6,2]\n",
    "axins2 = inset_axes(\n",
    "    ax, width = inset_bbox2[2], height = inset_bbox2[3], bbox_to_anchor =inset_bbox2[:2],\n",
    "    bbox_transform=ax.figure.transFigure)\n",
    "axins.text(0.40, 1.1, \"High voltages\", transform=axins.transAxes, fontsize=14, verticalalignment='top')\n",
    "axins2.text(0.5, 1.15, \"Very high voltages\", transform=axins2.transAxes, fontsize=14, verticalalignment='top', \n",
    "            horizontalalignment = 'center')\n",
    "\n",
    "\n",
    "_,_,_,_,fig,ax = vis.nice_histogram(volt,100, show_plot=True, x_range= (50,10000), xlog_scale = True,\n",
    "                                    ylog_scale = True, xlabel = 'V', axis = axins, \n",
    "                                    figure = fig, plot_legend = True, ecolor='r', fmt ='.r', \n",
    "                                    label_fs=12, data_label='Data (100 bins in ' +r'$[50, 10^4])$', \n",
    "                                   color_hist= 'r')\n",
    "_,_,_,_,fig,ax = vis.nice_histogram(volt,100, show_plot=True, x_range= (10000,2e6), xlog_scale = True,\n",
    "                                    ylog_scale = True, xlabel = 'V', axis = axins2, \n",
    "                                    figure = fig, plot_legend = True, ecolor='r', fmt ='.r', \n",
    "                                    label_fs=12, data_label='Data (100 bins in ' + r'$[10^4, 2\\cdot10^6])$', legend_fs = 15,\n",
    "                                    save = True, figname = 'img/voltages.png', dpi = 150,  color_hist = 'r')\n",
    "#If there is time left at the end produce histogram for high values, therefore change the function\n",
    "display(fig)"
   ]
  },
  {
   "cell_type": "code",
   "execution_count": 688,
   "metadata": {},
   "outputs": [],
   "source": [
    "x_range = (.1,10)\n",
    "x, y, sy, binwidth = fits.produce_hist_values(volt, x_range = x_range, N_bins = 100)\n",
    "def expon(x, N, lam): return lam*N*binwidth*stats.expon.pdf(x,scale= 1/lam)\n",
    "def gamma(x, N,a, sig): return N*binwidth*stats.gamma.pdf(x,a, scale = sig )\n",
    "p0 = [5e6,5,.4]\n",
    "#x, y, sy, binwidth, fig, ax = vis.nice_histogram(volt, 100, x_range = x_range, show_plot = False)\n",
    "#x_lin = np.linspace(x_range[0], x_range[1],100)\n",
    "#y_lin = gamma(x_lin, *p0)\n",
    "#ax.plot(x_lin, y_lin)\n",
    "#display(fig)\n",
    "_, _, popt, pcov =fits.chi2_fit_func(x,y, sy, gamma, p0, show_plot = False,\n",
    "                                       figure = fig, xlabel = 'V', legend_off = True, Text_pos=[0,.99], ylabel = 'Frequency',\n",
    "                                       save_plot = False,text_fs = 12)"
   ]
  },
  {
   "cell_type": "code",
   "execution_count": 687,
   "metadata": {},
   "outputs": [],
   "source": [
    "x, y, sy, binwidth, fig, ax = vis.nice_histogram(\n",
    "    volt,50, show_plot= False, x_range= (50,90), \n",
    "    ylog_scale = False,xlog_scale = False, xlabel = 'V', figsize = (15,9), legend_loc = 8, \n",
    "    data_label='Data (200 bins in [-0.04,50 ])', plot_hist = False, color_hist = 'b')"
   ]
  },
  {
   "cell_type": "code",
   "execution_count": 684,
   "metadata": {},
   "outputs": [],
   "source": [
    "mu_peak = [2.95, 7.45, 11.95]\n",
    "range1 = (2.92, 2.98)\n",
    "N_bins1 = 50\n",
    "x1, y1, sy1, binwidth1 = fits.produce_hist_values(volt, x_range = range1, N_bins = 50)\n",
    "def gauss1(x,N0, N,mu, sig): return N0 + N*binwidth1*stats.norm.pdf(x, mu,sig)\n",
    "range2 = (7.4, 7.5)\n",
    "x2, y2, sy2, binwidth2 = fits.produce_hist_values(volt, x_range = range2, N_bins = 50)\n",
    "def double_gauss_one_mean(x, N0,N, f, mu, sig1, sig2):\n",
    "    return N0 + binwidth2*N*(f*stats.norm.pdf(x,mu,sig1)+(1-f)*stats.norm.pdf(x,mu,sig2))\n",
    "range3 = (11.9, 12)\n",
    "x3, y3, sy3, binwidth3 = fits.produce_hist_values(volt, x_range = range3, N_bins = 50)\n",
    "\n",
    "def gauss3(x,N0, N,mu, sig): return N0 + N*binwidth3*stats.norm.pdf(x, mu,sig)\n",
    "\n",
    "\n",
    "fig, ax = plt.subplots(3,1,figsize = (15,11))\n",
    "plt.close(fig)\n",
    "ax0, _, popt, pcov =fits.chi2_fit_func(x1,y1,sy1, gauss1, [125, 150, 2.95, 0.01], show_plot = False, axis = ax[0],\n",
    "                                       figure = fig, xlabel = 'V', legend_off = False, Text_pos=[0,.99], ylabel = 'Frequency',\n",
    "                                       save_plot = False,text_fs = 12, \n",
    "                                     fit_label = 'chi2 Gauss fit', data_label = 'Data with poisson errors',\n",
    "                                    legend_loc = 'upper right', legend_fs = 16)\n",
    "#ax0.set_ylim(50,220)\n",
    "_, _, popt, pcov =fits.chi2_fit_func(x2,y2,sy2, double_gauss_one_mean, [100, 200, .8,7.45, 0.02, 0.01], show_plot = False, axis = ax[1],\n",
    "                                       figure = fig, xlabel = 'V', legend_off = False, Text_pos=[0,.99], ylabel = 'Frequency',\n",
    "                                       save_plot = True, figname = 'img/peaks.png', text_fs = 12,\n",
    "                                     fit_label = 'double Gauss', data_label = '', legend_loc = 'upper right', legend_fs = 16)\n",
    "_, _, popt, pcov =fits.chi2_fit_func(x3,y3,sy3, gauss3, [20, 25, 11.95,0.01], show_plot = False, axis = ax[2],\n",
    "                                       figure = fig, xlabel = 'V', legend_off = False, Text_pos=[0,.99], ylabel = 'Frequency',\n",
    "                                       save_plot = True, figname = 'img/peaks.png', text_fs = 11,\n",
    "                                    fit_label = 'chi2 Gauss fit', data_label = '', legend_loc = 'upper right', legend_fs = 16)\n",
    "\n",
    "#display(fig)"
   ]
  },
  {
   "cell_type": "code",
   "execution_count": 690,
   "metadata": {},
   "outputs": [],
   "source": [
    "#search for peaks\n",
    "x, y, sy, binwidth, fig, ax = vis.nice_histogram(\n",
    "    volt,100, show_plot=False, x_range= (11.8,12.1), \n",
    "    ylog_scale = False,xlog_scale = False, xlabel = 'V', figsize = (15,9), legend_loc = 8, \n",
    "    data_label='Data (200 bins in [-0.04,50 ])', plot_hist = False, color_hist = 'b')"
   ]
  },
  {
   "cell_type": "markdown",
   "metadata": {},
   "source": [
    "\\begin{itemize}\n",
    "    \\item All the data is shown in the plot below. For errors, Poisson distributed counts were assumed.\n",
    "\\end{itemize}"
   ]
  },
  {
   "cell_type": "markdown",
   "metadata": {},
   "source": [
    "\\begin{figure} [H]\n",
    "    \\centering\n",
    "    \\includegraphics[width = 12cm]{img/voltages.png}\n",
    "    \\caption{}\n",
    "    \\label{fig:MC_t}\n",
    "\\end{figure}"
   ]
  },
  {
   "cell_type": "code",
   "execution_count": 694,
   "metadata": {},
   "outputs": [],
   "source": [
    "s1 = 1243.749/86.71\n",
    "s2 = 1055.303/93.222\n",
    "s3 = 124.892/20.527\n",
    "#s1,s2,s3"
   ]
  },
  {
   "cell_type": "markdown",
   "metadata": {},
   "source": [
    "\\begin{itemize}\n",
    "\n",
    "\\item Three peaks could (see below). For every peak a $\\chi^2$ fit was performed resulting in reasonable p-values. The significance $s = N_{sig} / \\sigma(N_{sig})$ for the fitted peaks is :\n",
    "$s1 = 1243.749/86.71 = 14.3\\,$, $s2 =1055.303/93.222=  11.3\\,$ and $s3 = 124.892/20.527= 6.1\\,$.\n",
    "All three peaks are therefore very certain. To confirm this an unbinned log likelihood (ullh) with suitable function can be fitted to the background (H0) without the peaks and compared to the ullh fit of background with signal (H1). We can then compute the ration $D = -2 log(LLH_{H0} / LLH_{H1}$ to evaluate the significance of the peaks.\n",
    "\\end{itemize}\n",
    "![title](img/peaks.png)"
   ]
  },
  {
   "cell_type": "markdown",
   "metadata": {
    "heading_collapsed": true
   },
   "source": [
    "# Error propagation \n"
   ]
  },
  {
   "cell_type": "markdown",
   "metadata": {
    "heading_collapsed": true,
    "hidden": true
   },
   "source": [
    "## Error prop "
   ]
  },
  {
   "cell_type": "code",
   "execution_count": 696,
   "metadata": {
    "hidden": true
   },
   "outputs": [],
   "source": [
    "mu_x, s_x = 1.96, 0.03\n",
    "def fy(x): return 1/(1+x**2)\n",
    "def fz(x): return 1/(1-x)**2\n",
    "symbols_y = ['fy','x']\n",
    "symbols_z = ['fz','x']\n",
    "eq_fy, eq_sfy, sfy_lamb =  ast.propagate_error(fy, symbols_y)\n",
    "eq_fz, eq_sfz, sfz_lamb = ast.propagate_error(fz, symbols_z)\n",
    "#print(latex(eq_sfy)), print(latex(eq_sfz))\n",
    "#ast.round_result(fy(mu_x), float(sfy_lamb(mu_x,s_x)))\n",
    "#ast.round_result(fz(mu_x), float(sfz_lamb(mu_x,s_x)))"
   ]
  },
  {
   "cell_type": "code",
   "execution_count": 697,
   "metadata": {
    "hidden": true
   },
   "outputs": [],
   "source": [
    "mu_x2, s_x2 = 0.96, 0.03\n",
    "#print(fy(mu_x2))\n",
    "#ast.round_result(fy(mu_x2), float(sfy_lamb(mu_x2,s_x2)))\n",
    "#ast.round_result(fz(mu_x2), float(sfz_lamb(mu_x2,s_x2)))"
   ]
  },
  {
   "cell_type": "markdown",
   "metadata": {
    "hidden": true
   },
   "source": [
    "\\begin{itemize}\n",
    "\n",
    "\\item Performing error propagation on these formulas gives:\n",
    "\\begin{equation}\n",
    "    \\sigma_{y} = 2 \\sqrt{\\frac{\\sigma_{x}^{2} x^{2}}{\\left(x^{2} + 1\\right)^{4}}}\n",
    "\\end{equation}\n",
    "and\n",
    "\\begin{equation}\n",
    "    \\sigma_{z} = 2 \\sqrt{\\frac{\\sigma_{x}^{2}}{\\left(1 - x\\right)^{6}}}\n",
    "\\end{equation}\n",
    "Inserting the provided values in the formulas above results in $\\mathbf{y = (207\\pm5)\\cdot10^{-3}}$ and $\\mathbf{z = (109\\pm7)\\cdot10^{-2}}\\,$.\n",
    "\n",
    "\\item If $x = 0.96\\pm 0.03$ instead, then we get\n",
    "    $\\mathbf{y = (52.0\\pm1.6)\\cdot10^{-2}}$ and $\\mathbf{z = (6\\pm9)\\cdot10^{2}}\\,$.\n",
    "\n",
    "\\end{itemize}"
   ]
  },
  {
   "cell_type": "markdown",
   "metadata": {
    "heading_collapsed": true,
    "hidden": true
   },
   "source": [
    "## Gravitational Acceleration "
   ]
  },
  {
   "cell_type": "code",
   "execution_count": 3,
   "metadata": {
    "hidden": true
   },
   "outputs": [],
   "source": [
    "mu_g = np.array([9.54, 9.36, 10.02, 9.87, 9.98, 9.86, 9.86, 9.81, 9.79])\n",
    "s_g = np.array([0.15, 0.10, 0.11, 0.08, 0.14, 0.06, 0.03, 0.13, 0.04])\n",
    "wa_g, swa_g = ast.weighted_avg(mu_g, s_g)\n",
    "#print(wa_g, swa_g)\n",
    "z = np.abs(mu_g-wa_g)/s_g\n",
    "#ast.std_to_prob(z)*len(mu_g)"
   ]
  },
  {
   "cell_type": "code",
   "execution_count": 8,
   "metadata": {
    "hidden": true
   },
   "outputs": [],
   "source": [
    "chi2 = ast.chi_sq_const(mu_g, s_g)\n",
    "p = stats.chi2.sf(len(mu_g), chi2)\n",
    "#print(p, chi2)\n",
    "#len(mu_g)*ast.std_to_prob(z)"
   ]
  },
  {
   "cell_type": "code",
   "execution_count": 11,
   "metadata": {
    "hidden": true
   },
   "outputs": [
    {
     "name": "stdout",
     "output_type": "stream",
     "text": [
      "9.824097473177615 0.01997038603519878\n"
     ]
    }
   ],
   "source": [
    "#excluding the outlier:\n",
    "wa_g_best, swa_g_best = ast.weighted_avg(np.delete(mu_g,1), np.delete(s_g,1))\n",
    "print(wa_g, swa_g)"
   ]
  },
  {
   "cell_type": "code",
   "execution_count": 10,
   "metadata": {
    "hidden": true
   },
   "outputs": [],
   "source": [
    "#two sample test\n",
    "z = ast.two_sample_test(wa_g_best, 9.8158, swa_g_best, 0.0001)"
   ]
  },
  {
   "cell_type": "code",
   "execution_count": 713,
   "metadata": {
    "hidden": true
   },
   "outputs": [],
   "source": [
    "#vis.nice_histogram(mu_g, 10, show_plot = True)"
   ]
  },
  {
   "cell_type": "markdown",
   "metadata": {
    "hidden": true
   },
   "source": [
    "\\begin{itemize}\n",
    " \n",
    "\\item Computing the weighted average and its uncertainty one gets: $g = (9.824\\pm 0.020)\\,\\mathrm{m/s^2}\\,$. To find out what the best estimate of $g$ is, the z-value is computed for each measurement which is used to compute the corresponding probability. The second measurement $g_\\text{outlier}  = (9.36\\pm0.10)\\,\\mathrm{m/s^2}$ has a too low global probability of $p_\\text{glob} = 3.11\\cdot 10^{-5} < 0.01\\,$. After excluding this measurement the weighted average does not change. The resulting value for the best estimate is  $\\mathbf{g_\\text{best}  = (9.824\\pm 0.020)\\,\\mathrm{m/s^2}}\\,$.\n",
    "\n",
    "\n",
    "\\item One gets $\\mathbf{\\chi^2  = 32.396}$ which gives a p-value of $\\mathbf{\\text{sf}(\\text{ndof} = 9, \\chi^2 )  = 0.99998 }\\,$. The high p-value indicates an overestimation of uncertainties. The only unlikely measurement only $g_\\text{outlier}$ is shown above. The second least likely measurement $g = (9.54\\pm0.15)\\,\\mathrm{m/s^2}$ has a $p_\\text{glob}$ of $0.52$ which is high enough.\n",
    "\n",
    "\\item Running the two sample test for the best estimate $\\mathbf{g_\\text{best}}$ with the precision measurement gives a z-value of $0.176\\,$ they therefore do agree with each other.\n",
    "\n",
    "\\end{itemize}"
   ]
  },
  {
   "cell_type": "markdown",
   "metadata": {
    "heading_collapsed": true
   },
   "source": [
    "# Monte Carlo "
   ]
  },
  {
   "cell_type": "markdown",
   "metadata": {
    "heading_collapsed": true,
    "hidden": true
   },
   "source": [
    "## Sum of exponentiall distributed numbers "
   ]
  },
  {
   "cell_type": "code",
   "execution_count": 14,
   "metadata": {
    "hidden": true
   },
   "outputs": [],
   "source": [
    "N_exp, tau = 1000, 0.8\n",
    "N_sum  = 4\n",
    "u = np.empty(N_exp)\n",
    "for i in range(N_exp):\n",
    "    t = tau*stats.expon.rvs(size = N_sum, scale =1/tau )\n",
    "    u[i] = np.sum(t)\n",
    "def gauss_cdf(x): return stats.norm.cdf(x, loc = N_exp/tau, scale = np.sqrt(N_exp)/tau)\n",
    "#print(stats.kstest(u, gauss_cdf,N = N_exp))\n",
    "#try the KS test later"
   ]
  },
  {
   "cell_type": "code",
   "execution_count": 43,
   "metadata": {
    "hidden": true,
    "scrolled": true
   },
   "outputs": [],
   "source": [
    "def gauss(x, N,mu, sig): return N*stats.norm.pdf(x, mu,sig)\n",
    "def gamma(x, N, k, theta): return N*binwidth*stats.gamma.pdf(x,k, scale = theta )\n",
    "def skew_norm(x, N, a, mu, sigma): return N * stats.skewnorm.pdf(x, a, mu, sigma)\n",
    "N_bins = 50\n",
    "_, _, _, binwidth = fits.produce_hist_values(u, N_bins)\n",
    "\n",
    "p0_gauss = [1000,3,1]\n",
    "minuit_obj, x, y, sy = fits.hist_fit(gauss, u, p0_gauss, N_bins= N_bins, x_range = None, fit_type = 'chi2',\n",
    "             observed = True, print_level = 0)\n",
    "chi2_gauss = minuit_obj.fval\n",
    "p_gauss = stats.chi2.sf(chi2_gauss, len(sy)- 3)\n",
    "x_axis = np.linspace(u.min(), u.max(), 200)\n",
    "y_axis = gauss(x_axis, *minuit_obj.args)#*binwidth\n",
    "\n",
    "fig, ax  = plt.subplots(figsize = (14,7))\n",
    "ax.plot(x_axis, y_axis, label = 'Gaussian chi2 fit', color = 'orange')\n",
    "x, y, sy, binwidth, fig, ax = vis.nice_histogram(u, N_bins, show_plot = False, axis = ax, figure = \n",
    "                        fig, xlabel = 'u',data_label='Distribution of u')\n",
    "\n",
    "\n",
    "\n",
    "p0_gamma = [1200, 3, 1.5]\n",
    "p0_sn = [1000, 1, 3,1]\n",
    "Functions = [gamma, skew_norm]\n",
    "Ranges = [[u.min(), u.max()],[u.min(), u.max()]]\n",
    "P0 = [p0_gamma, p0_sn]\n",
    "\n",
    "_ = fits.chi2_fit_mult_func(x[y>0],y[y>0],sy[y>0],Functions, P0, Ranges, show_plot = False, axis = ax,\n",
    "                                       figure = fig, xlabel = 'u', legend_off = False,data_label=None,\n",
    "                                        Text_pos=[[.4,.99],[.65,.5]], ylabel = 'Frequency',\n",
    "                                   Fit_label = ['Gamma chi2 fit' ,'Skew norm chi2 fit'],\n",
    "                                       save_plot = True, figname = 'img/MC_u.png', text_fs = 16, dpi = 120, figsize = (14,15))\n",
    "#display(fig)"
   ]
  },
  {
   "cell_type": "markdown",
   "metadata": {
    "hidden": true
   },
   "source": [
    "\\begin{itemize}\n",
    "\n",
    "\\item A plot of the generated data is shown below\n",
    "![title](img/MC_u.png)\n",
    "\n",
    "\\end{itemize}\n",
    "\n"
   ]
  },
  {
   "cell_type": "markdown",
   "metadata": {
    "hidden": true
   },
   "source": [
    "\\begin{itemize}\n",
    "\n",
    "\\item A $\\chi^2$ fit of a Gaussian doesnt match the data well. It gives a p-value of $0.2\\%$ and can therefore be rejected. One can also try to test it with a \n",
    "Kolmogorov-Smirnov test and see if the central limit theorem applies which would predict a Gaussian distribution with  \n",
    "\\begin{equation}\n",
    "    \\mu = \\sum_{i=1}^4 \\mu_i = 4/\\tau\n",
    "\\end{equation}\n",
    "and\n",
    "\\begin{equation}\n",
    "    \\sigma = \\sqrt{\\sum_i \\sigma_i^2} = 2/\\tau \\,.\n",
    "\\end{equation}\n",
    "\n",
    "\n",
    "\\item $\\chi^2$ fits of a gamma and a skewed-normal pdf were performed, both resulting in reasonable p-values. The distribution could be best matched with a gamma function. \n",
    "\n",
    "\\end{itemize}"
   ]
  },
  {
   "cell_type": "markdown",
   "metadata": {
    "hidden": true
   },
   "source": [
    "## Determine Median "
   ]
  },
  {
   "cell_type": "code",
   "execution_count": 74,
   "metadata": {
    "hidden": true
   },
   "outputs": [],
   "source": [
    "def f(x): return x*np.exp(-x)\n",
    "#print(f(20))\n",
    "#Monte Carlo\n",
    "num_it = 1000000\n",
    "random = []\n",
    "ri = 0.001\n",
    "N_acc = 0\n",
    "N = 1000\n",
    "for i in range(num_it):\n",
    "    rand_num = np.random.uniform(0, 20)\n",
    "    rp = np.copy(ri)\n",
    "    rp = rand_num\n",
    "    if rp<0:\n",
    "        r = ri\n",
    "    else:\n",
    "        p_acc = f(rp)/f(ri)\n",
    "        prob = np.random.uniform(0,1)\n",
    "        if p_acc>prob:\n",
    "            r = rp\n",
    "            random.append(r)\n",
    "            N_acc +=1\n",
    "        else:\n",
    "            r = ri\n",
    "    ri = np.copy(r)\n",
    "#N_acc/num_it"
   ]
  },
  {
   "cell_type": "code",
   "execution_count": 84,
   "metadata": {
    "hidden": true
   },
   "outputs": [
    {
     "name": "stdout",
     "output_type": "stream",
     "text": [
      "2.0663819991546095\n"
     ]
    }
   ],
   "source": [
    "gen_random = np.array(random[-N:])\n",
    "med = np.median(gen_random)\n",
    "print(np.median(gen_random))\n",
    "x, y, sy, binwidth, fig, ax = vis.nice_histogram(gen_random, 60, show_plot = False, data_label= 'Data with Poisson errros')\n",
    "def f_pdf(x): return N*binwidth*f(x)\n",
    "x_ax = np.linspace(0,15,300)\n",
    "ax.plot(x_ax,f_pdf(x_ax), label = r'$f(x) = x\\exp{(-x)}$', color = 'orange')\n",
    "ax.axvline(med, color = 'green', label = 'Median')\n",
    "ax.legend(fontsize = 22)\n",
    "fig.tight_layout()\n",
    "fig.savefig('img/MC_median.png', dpi = 150)\n",
    "#display(fig)# RUN KS"
   ]
  },
  {
   "cell_type": "markdown",
   "metadata": {
    "hidden": true
   },
   "source": [
    "First we want to determine C in order to $f(x) = Cx\\exp{-x}$ to be normalized:\n",
    "\\begin{equation}\n",
    "    \\int_{0}^{\\infty}dx'\\;C\\cdot  f(x') =1\\,.\n",
    "\\end{equation}\n",
    "Solving for the constant gives $C = 1 \\,$.\\\n",
    "The integral $F(x) = \\int_{-\\infty}^xdx'f(x')$ gives $1-(x+1)\\exp{(-x)}\\,$. This function is not bijective in the given range and can thus not be inverted which makes the transformation method unsuitable. The accept reject method cannot be used either because the range is not bounded. "
   ]
  },
  {
   "cell_type": "markdown",
   "metadata": {
    "hidden": true
   },
   "source": [
    "To produce values distributed according to $f(x)$ we want thus first to find a pdf $g(x)$ with the following properties:\n",
    "\\begin{itemize}\n",
    "    \\item $G(x) = \\int_{-\\infty}^xdx'g(x')$ is invertible\n",
    "    \\item $g(x)\\geq f(x)$ in the whole range\n",
    "\\end{itemize}\n",
    "The pdf $f(x)$ has a maximum at $x = 1$ with $f(1) = 1/e\\,$/. Such a pdf could not be found.\n",
    "Therefore, a Monte Carlo method called the Metropolis algorithm is chosen to generate the values. \n",
    "It was implemented as follows:\n",
    "\\begin{itemize}\n",
    "    \\item Starting point $x0 = 0.01$\n",
    "    \\item Draw a random point $x_\\text{new}$ from the uniform distribution between 0 and 20 (The bound was chosen since f(20) is negligibly small)\n",
    "    \\item Compute $\\text{frac} =  f(x_\\text{new})/f(x)$\n",
    "    \\item Accept new point with probability $p_\\text{acc} = \\text{min}(\\text{frac}, 1)$\n",
    "    \\item Take The last 1000 simulated points\n",
    "\\end{itemize}\n",
    "The algorithm gives an acceptance rate of 0.18. The resulting points along the pdf can be seen in the plot below."
   ]
  },
  {
   "cell_type": "markdown",
   "metadata": {
    "hidden": true
   },
   "source": [
    "![title](img/MC_median.png)"
   ]
  },
  {
   "cell_type": "markdown",
   "metadata": {
    "hidden": true
   },
   "source": [
    "The median of the generated values was determined to be $\\mathbf{2.07\\,}$."
   ]
  },
  {
   "cell_type": "markdown",
   "metadata": {
    "heading_collapsed": true
   },
   "source": [
    "# Statistical tests"
   ]
  },
  {
   "cell_type": "markdown",
   "metadata": {
    "hidden": true
   },
   "source": [
    "## Covid Vaccine "
   ]
  },
  {
   "cell_type": "code",
   "execution_count": 88,
   "metadata": {
    "hidden": true
   },
   "outputs": [],
   "source": [
    "N_p, N_pp  = 21728, 162\n",
    "N_v, N_pv = 21720, 8\n",
    "N_nv = N_v-N_pv\n",
    "N_np = N_p- N_pp\n",
    "con_table = np.array([[8, 162],[21712, 21566]])\n",
    "odds, p_value = stats.fisher_exact(con_table)\n",
    "#odds, p_value"
   ]
  },
  {
   "cell_type": "code",
   "execution_count": 105,
   "metadata": {
    "hidden": true
   },
   "outputs": [],
   "source": [
    "eps = (162-8)/162\n",
    "#eps"
   ]
  },
  {
   "cell_type": "code",
   "execution_count": 107,
   "metadata": {
    "hidden": true
   },
   "outputs": [],
   "source": [
    "N_pl = stats.poisson.rvs(162, size = 100000)\n",
    "N_vac = stats.poisson.rvs(8, size = 100000)\n",
    "eps = (N_pl-N_vac)/N_pl\n",
    "Mean = np.mean(eps)\n",
    "_, _, _, _, fig, ax = vis.nice_histogram(eps, 50, figsize = (12,6), show_plot = False, data_label = 'Simulated efficacy with errors')\n",
    "ax.axvline(0.932, color = 'r', label = 'Boundaries of the 68% CI')\n",
    "ax.axvline(0.968, color = 'r')\n",
    "ax.legend(fontsize = 20)\n",
    "fig.tight_layout()\n",
    "fig.savefig('img/ST_efficacy.png', dpi = 150)\n",
    "#display(fig)\n",
    "#lets use symmetric intervals\n",
    "Interval = np.linspace(0.01, .1, 300)\n",
    "prop = []\n",
    "for interval in Interval:\n",
    "    mask = (eps>(Mean-interval)) & (eps<(Mean+interval)) \n",
    "    eps_ma = eps[mask]\n",
    "    prop.append(len(eps_ma)/len(eps))\n",
    "prop = np.array(prop)"
   ]
  },
  {
   "cell_type": "code",
   "execution_count": 108,
   "metadata": {
    "hidden": true
   },
   "outputs": [],
   "source": [
    "fig, ax = plt.subplots()\n",
    "ax.plot(Interval, prop)\n",
    "#plt.show()\n",
    "plt.close()\n",
    "idx = (np.abs(prop - 0.68)).argmin()\n",
    "CI = Interval[idx]\n",
    "CI_min = Mean-CI\n",
    "CI_max = Mean +CI\n",
    "#CI_min, CI_max"
   ]
  },
  {
   "cell_type": "code",
   "execution_count": 109,
   "metadata": {
    "hidden": true
   },
   "outputs": [],
   "source": [
    "con_table = np.array([[1, 9],[21719, 21719]])\n",
    "odds, p_value = stats.fisher_exact(con_table)\n",
    "#odds, p_value"
   ]
  },
  {
   "cell_type": "markdown",
   "metadata": {
    "hidden": true
   },
   "source": [
    "\\begin{itemize}\n",
    "\n",
    "\\item Here, the contingency table shown below can be used to perform the Fisher's exact test and determine the probability that the vaccine has no effect. \n",
    "\n",
    "\\end{itemize}"
   ]
  },
  {
   "cell_type": "markdown",
   "metadata": {
    "hidden": true
   },
   "source": [
    "\n",
    "|          | Vaccine  | Placebo |\n",
    "|----------|---------|-------- |\n",
    "| Positive | 8       |  162    |\n",
    "| Negative | 21712   |   21566 |\n"
   ]
  },
  {
   "cell_type": "markdown",
   "metadata": {
    "hidden": true
   },
   "source": [
    "The resulting p-value is $\\mathbf{1.6\\cdot10^{-38}}$ and therefore one can reject the hypothesis of the vaccine having no effect."
   ]
  },
  {
   "cell_type": "markdown",
   "metadata": {
    "hidden": true
   },
   "source": [
    "\\begin{itemize}\n",
    "\n",
    "\\item Considering the low probability of being tested positive and the high numbers of candidates, the number of positive cases follow Poisson distributions with $\\lambda_\\text{vac} = 8$ for vaccinated subjects and $\\lambda_\\text{plac} = 162$ for subjects that were given a placebo. Since it is difficult to calculate the distribution of a ratio of two Poisson distributed numbers, we can either use a Gaussian approximation which is reasonable for $N_\\text{placebo}$ but critical for $N_\\text{vaccine}\\,$ or simulate the efficacy. \n",
    "Here, the efficacy is simulated using the generator of Poisson distributed numbers and is shown below. \n",
    "Using the data, one can simulate the fraction of points falling within the confidence interval for different boundaries. The boundaries were chosen symmetric around the mean of $0.950\\,$. The resulting $68\\%$ confidence interval is $\\mathbf{[0.932, 0.968]}\\,$.\n",
    "![title](img/ST_efficacy.png)\n",
    "\n",
    "\\end{itemize}"
   ]
  },
  {
   "cell_type": "markdown",
   "metadata": {
    "hidden": true
   },
   "source": [
    "\\begin{itemize}\n",
    "\n",
    "\\item The contingency table for severe cases is shown below:\n",
    "\\end{itemize}"
   ]
  },
  {
   "cell_type": "markdown",
   "metadata": {
    "hidden": true
   },
   "source": [
    "|          | Vaccine  | Placebo |\n",
    "|----------|---------|--------  |\n",
    "| Severe   | 1       |  9       |\n",
    "| non severe|   21719 |   21719  |"
   ]
  },
  {
   "cell_type": "markdown",
   "metadata": {
    "hidden": true
   },
   "source": [
    "\n",
    "Performing a fisher's exact test gives a p-value of $\\mathbf{2.15\\%}$ which is below the chosen significance level $\\alpha\\,$. The null hypothesis that the vaccine has no effect on severe cases can therefore be \\textbf{rejected}.\n",
    "\n"
   ]
  },
  {
   "cell_type": "markdown",
   "metadata": {
    "heading_collapsed": true,
    "hidden": true
   },
   "source": [
    "## Cards "
   ]
  },
  {
   "cell_type": "code",
   "execution_count": 111,
   "metadata": {
    "hidden": true
   },
   "outputs": [],
   "source": [
    "import pandas as pd\n",
    "import urllib\n",
    "file= urllib.request.urlopen('https://www.nbi.dk/~petersen/data_ShuffledCards.txt')\n",
    "data = pd.read_csv(file, delimiter=r\"\\s+\",skiprows =  lambda x: x in [0,1], header = None)\n",
    "data = np.array(data)\n",
    "data = data[:,[1,3,4,5]]"
   ]
  },
  {
   "cell_type": "code",
   "execution_count": 113,
   "metadata": {
    "hidden": true
   },
   "outputs": [],
   "source": [
    "p = 4/52\n",
    "p_34 = stats.binom.pmf(3, 4,p )+ stats.binom.pmf(4, 4,p )\n",
    "#p_34*100"
   ]
  },
  {
   "cell_type": "code",
   "execution_count": 114,
   "metadata": {
    "hidden": true
   },
   "outputs": [],
   "source": [
    "P = 4/52*3/51 * 2/50* 1/49 + 4/52* 48/51 * 3/50* 2/49 +4/52* 48/51* 3/50* 2/40 + 48/52* 4/51* 3/50* 2/49 \n",
    "#P*100"
   ]
  },
  {
   "cell_type": "code",
   "execution_count": 116,
   "metadata": {
    "hidden": true
   },
   "outputs": [],
   "source": [
    "#ast.runsTest(data[:,2]), ast.runsTest(data[:,3])"
   ]
  },
  {
   "cell_type": "code",
   "execution_count": 137,
   "metadata": {
    "hidden": true
   },
   "outputs": [],
   "source": [
    "chi2_prob, fig, ax = ast.seq_freq_test(data[:,3], seq_l = 3, N_bins = 5, show_plot = False)\n",
    "ax.set_xlabel('Sequence Number', fontsize = 20)\n",
    "ax.set_ylabel('Frequency',fontsize = 20)\n",
    "ax.set_yscale('log')\n",
    "ax.tick_params(axis = 'both', labelsize = 20)\n",
    "#display(fig)\n",
    "ax.legend(fontsize = 20, loc = 8)\n",
    "fig.tight_layout()\n",
    "#display(fig)\n",
    "fig.savefig('img/ST_sequence.png', dpi = 120)"
   ]
  },
  {
   "cell_type": "markdown",
   "metadata": {
    "hidden": true
   },
   "source": [
    "\\begin{itemize}\n",
    "\n",
    "\\item The number of aces follows a binomial distribuition. Drawing the cards is independent with a probability of success            $p_\\text{success} =4/52\\,$. \n",
    " The probability of getting   3 or more aces can be computed as follows:\n",
    "   \\begin{equation}\n",
    "       P(\\text{3 aces out of 4 cards}) = P_\\text{bin} (3;p_\\text{success},N = 4) + P_\\text{bin} (4;p_\\text{success},N = 4) = 0.17\\% \\,.\n",
    "    \\end{equation}\n",
    "    \n",
    "\\item To compute this a tree diagramm is drawn with the corresponding probabilities. To get the result we some over all branches that we are interested in:\n",
    "   \\begin{equation}\n",
    "    P = 4/52\\cdot 3/51 \\cdot 2/50\\cdot 1/49 + 4/52\\cdot 48/51 \\cdot 3/50\\cdot 2/49 +4/52\\cdot 48/51\\cdot 3/50\\cdot 2/40 + 48/52\\cdot 4/51\\cdot 3/50\\cdot 2/49 = 0.058\\%\\,.\n",
    "   \\end{equation}\n",
    "\\item Again, choosing a significance level of $\\alpha = 5\\%$ a runs test is performed on the values giving a p-value of $17.2\\%$ and on the suit resulting in a p-value of $77.94\\%$ indicating that the deck is well shuffled. Testing for sequences of length 3 results in a low p-value of $5.2\\%$ which is suspicous but still acceptable with the chosen $\\alpha\\,$. A histogram of the sequences reveals that some occur mor often than expected, see figure below.\n",
    "\n",
    "![title](img/ST_sequence.png)\n",
    "\n",
    "\\end{itemize}"
   ]
  },
  {
   "cell_type": "markdown",
   "metadata": {
    "heading_collapsed": true
   },
   "source": [
    "# Fitting data"
   ]
  },
  {
   "cell_type": "markdown",
   "metadata": {
    "hidden": true
   },
   "source": [
    "## Solar power capacity "
   ]
  },
  {
   "cell_type": "code",
   "execution_count": 150,
   "metadata": {
    "hidden": true
   },
   "outputs": [],
   "source": [
    "data = ast.load_url_data('https://www.nbi.dk/~petersen/data_SolarPower.txt', skiprows = 2)\n",
    "year = data[:,0]\n",
    "CC = data[:,1]\n",
    "PVC = data[:,2]\n",
    "SPVC = PVC*0.15\n",
    "#fig, ax = plt.subplots()\n",
    "#ax.plot(CC, PVC)"
   ]
  },
  {
   "cell_type": "code",
   "execution_count": 151,
   "metadata": {
    "hidden": true
   },
   "outputs": [],
   "source": [
    "def fpl(x, a, b): return a*x**(-b)\n",
    "def fC(P, a, b): return (P/a)**(-1/b)\n",
    "ax, fig, Popt, Pcov = fits.chi2_fit_func(CC, PVC, SPVC, fpl, p0 = [200,4], legend_loc=5, Text_pos = [.6,.99], figsize = (13,6),\n",
    "                      ylogscale= True, xlabel = 'Cumulative solar power [MW]', ylabel = 'SPV module cost [USD/W]',\n",
    "                                        show_plot = False, show_CI = False, data_label = 'Data with uncertainty',\n",
    "                                        fit_label=r'$\\chi^2$'+' fit of '+ r'$f(x) = ax^{-b}$', text_fs=20,\n",
    "                                        legend_fs=20, figname = 'img/fitting_1', save_plot = True, dpi = 120)\n",
    "\n",
    "#display(fig)\n",
    "#error propagation on P(C)\n",
    "symbols = ['P', 'C','a', 'b']\n",
    "eq, seq, s_lam = ast.propagate_error(fpl, symbols)\n",
    "va, vb = Popt[0], Popt[1]\n",
    "vsa, vsb = np.sqrt(Pcov[0,0]), np.sqrt(Pcov[1,1]) \n",
    "#display(eq), print(latex(seq)), fpl(1e6, va, vb), s_lam(1e6,va,vb,vsa,vsb,0)\n",
    "#ast.round_result(fpl(1e6, va, vb), float(s_lam(1e6,va,vb,vsa,vsb,0)))"
   ]
  },
  {
   "cell_type": "code",
   "execution_count": 155,
   "metadata": {
    "hidden": true
   },
   "outputs": [],
   "source": [
    "#propagate error on capacity\n",
    "symbols = ['C', 'P','a', 'b']\n",
    "eq, seq, s_lam = ast.propagate_error(fC, symbols)\n",
    "va, vb = Popt[0], Popt[1]\n",
    "vsa, vsb = np.sqrt(Pcov[0,0]), np.sqrt(Pcov[1,1]) \n",
    "#display(eq), print(latex(seq))\n",
    "sigma_CC = np.empty(len(PVC))\n",
    "for i in range(len(PVC)):\n",
    "    sigma_CC[i] = s_lam(PVC[i], va, vb,SPVC[i], vsa, vsb)"
   ]
  },
  {
   "cell_type": "code",
   "execution_count": 157,
   "metadata": {
    "hidden": true
   },
   "outputs": [],
   "source": [
    "#fig, ax = plt.subplots()\n",
    "x = np.linspace(1976,2020,100)\n",
    "y = expon(x, 1,.31)\n",
    "#ax.errorbar(year, CC, sigma_CC, fmt = '.b')\n",
    "#ax.plot(x,y)"
   ]
  },
  {
   "cell_type": "code",
   "execution_count": 158,
   "metadata": {
    "hidden": true
   },
   "outputs": [],
   "source": [
    "def expon(x, p,l): return p*np.exp(l*(x-1976))\n",
    "\n",
    "ax, fig, Popt, Pcov = fits.chi2_fit_func(year, CC, sigma_CC, expon,p0 = [0.57,.32 ], legend_loc=2,\n",
    "                                         Text_pos = [.1,.8],text_fs = 18, figsize = (12,6),\n",
    "                      ylogscale= True, xlabel = 'year', ylabel = 'Cumulative solar power [MW]',\n",
    "                                        show_plot = False, show_CI = True, data_label = 'Data with uncertainty',\n",
    "                                        fit_label=r'$\\chi^2$'+' fit of '+ r'$f(x) = p\\cdot\\exp{(l(x-1976))}$')\n",
    "year_extend = np.linspace(2019, 2021,100)\n",
    "C_pred = expon(year_extend, *Popt )\n",
    "sigma_ab = np.sqrt(np.diagonal(Pcov))\n",
    "best_fit_ab = Popt\n",
    "bound_upper = expon(year_extend, *(best_fit_ab + sigma_ab))\n",
    "bound_lower = expon(year_extend, *(best_fit_ab - sigma_ab))\n",
    "            # plotting the confidence intervals\n",
    "ax.fill_between(year_extend, bound_lower, bound_upper,\n",
    "                        color = 'k', alpha = 0.15)\n",
    "ax.plot(year_extend, C_pred, color = 'r')\n",
    "ax.axhline(1e6, color = 'green', label = '1 million MW')\n",
    "ax.legend(fontsize = 20)\n",
    "fig.tight_layout()\n",
    "fig.savefig('img/fitting_2.png', dpi = 120)\n",
    "#display(fig)"
   ]
  },
  {
   "cell_type": "code",
   "execution_count": 160,
   "metadata": {
    "hidden": true
   },
   "outputs": [],
   "source": [
    "def func(p,l): return 1/l*sp.log(1e6/p)+1976\n",
    "symbols = ['x', 'p','l']\n",
    "eq, seq, s_lam = ast.propagate_error(func, symbols)\n",
    "vp, vl = Popt[0], Popt[1]\n",
    "vsp, vsl = np.sqrt(Pcov[0,0]), np.sqrt(Pcov[1,1]) \n",
    "#display(eq), print(latex(seq))\n",
    "#s_lam(vp,vl,vsp,vsl), func(Popt[0], Popt[1])"
   ]
  },
  {
   "cell_type": "markdown",
   "metadata": {
    "hidden": true
   },
   "source": [
    "\\begin{itemize}\n",
    "\n",
    "\\item The price of solar power in dependence on the cumulative solar power capacity is shown below \n",
    "![title](img/fitting_1.png)\n",
    "\n",
    "\\item The fit results in a low p-value and is therefore unlikely. However, we use the function to estimate the errors on the cumulative solar power (C). \n",
    "\n",
    "\\item The cumulative solar power capacity as a function of the year is shown below\n",
    "![title](img/fitting_2.png)\n",
    "\n",
    "Let P be the price on solar power and C be the cumulative solar power capacity. We assume a relation \n",
    "\\begin{equation}\n",
    "P(C) = aC^{-b}\n",
    "\\end{equation}\n",
    "Inverting results in:\n",
    "\\begin{equation}\n",
    "    C(P) = (P/a)^{(-1/b)}\n",
    "\\end{equation}\n",
    "Applying the error propagation and neglecting the covariances gives then:\n",
    "\\begin{equation}\n",
    "\\sigma_{C} = 1/b\\cdot\\sqrt{\\frac{\\sigma_{b}^{2} \\left(\\frac{P}{a}\\right)^{- \\frac{2}{b}} \\ln{\\left(\\frac{P}{a} \\right)}^{2}}{b^{2}} + \\frac{\\sigma_{a}^{2} \\left(\\frac{P}{a}\\right)^{- \\frac{2}{b}}}{a^{2} } + \\frac{\\sigma_{P}^{2} \\left(\\frac{P}{a}\\right)^{- \\frac{2}{b}}}{P^{2} }}\n",
    "\\end{equation}\n",
    "Using this error estimation one can perform a $\\chi^2$ fit on the relation between the year and the cumulative solar power, which is shown above. The fit results in a low p-value and is therefore not a very good description for the data. To determine when C is expected to reach 1 million MW one can use the fitted parameters and solving:\n",
    "\\begin{equation}\n",
    "    10^6 = p\\cdot\\exp{(l(x-1976))}\n",
    "\\end{equation}\n",
    " for x which results in:\n",
    " \\begin{equation}\n",
    "     x = 1/l\\ln{(10^6/p)}+1976 \n",
    " \\end{equation}\n",
    " Error propagation gives then:\n",
    "     \\begin{equation}\n",
    "     \\sigma_{x} = \\sqrt{\\frac{\\sigma_{p}^{2}}{l^{2} p^{2}} + \\frac{\\sigma_{l}^{2} \\ln{\\left(\\frac{10^6}{p} \\right)}^{2}}{l^{4}}}\n",
    "     \\end{equation}\n",
    " \n",
    " Therefore, this capacity will be reached in the year $2020.5\\pm1.0\\,$, it is also indicated in the plot.\\\n",
    " We can estimate the price at that time by using the relation $P(C)\\,$. The error propagation on that gives:\n",
    " \\begin{equation}\n",
    " \\sigma_{P} = \\sqrt{C^{- 2 b} a^{2} \\sigma_{b}^{2} \\log{\\left(C \\right)}^{2} + C^{- 2 b} \\sigma_{a}^{2} + \\frac{C^{- 2 b} a^{2} b^{2} \\sigma_{C}^{2}}{C^{2}}}\n",
    " \\end{equation}\n",
    " The estimated price when the capacity of $10^6$ MW is reached is $C = (0.37547 \\pm 0.00003)\\,\\mathrm{USD}\\,$.\n",
    " \n",
    "\\end{itemize}"
   ]
  },
  {
   "cell_type": "markdown",
   "metadata": {
    "hidden": true
   },
   "source": [
    "## Covid, again"
   ]
  },
  {
   "cell_type": "code",
   "execution_count": 198,
   "metadata": {
    "hidden": true
   },
   "outputs": [],
   "source": [
    "data = ast.load_url_data('https://www.nbi.dk/~petersen/data_Covid19tests.txt', skiprows = 2)\n",
    "day = data[:,0]\n",
    "T = data[:,1]\n",
    "P = data[:,2]\n",
    "muT = np.mean(T)\n",
    "smuT = np.std(T)/np.sqrt(len(T))\n",
    "#muT, smuT"
   ]
  },
  {
   "cell_type": "code",
   "execution_count": 199,
   "metadata": {
    "hidden": true
   },
   "outputs": [],
   "source": [
    "#scaled positives\n",
    "SP = P*(T/muT)**.7\n",
    "tG = 4.7\n",
    "def f_SP(t, SP0, R, t0): return SP0*R**((t-t0)/tG)\n",
    "#fig,ax = plt.subplots()\n",
    "#ax.plot(day, SP)\n",
    "x = np.linspace(4,20,100)\n",
    "#ax.plot(x, f_SP(x, 2900,.4,5))"
   ]
  },
  {
   "cell_type": "code",
   "execution_count": 200,
   "metadata": {
    "hidden": true
   },
   "outputs": [],
   "source": [
    "symbols = ['SP', 'P', 'T','muT']\n",
    "def f(P,T, muT): return P*(T/muT)**.7\n",
    "eq, seq, s_lam = ast.propagate_error(f, symbols) \n",
    "#display(eq), print(latex(seq))\n",
    "sigma_SP = np.empty(len(P))\n",
    "for i in range(len(P)):\n",
    "    sigma_SP[i] = s_lam(P[i],T[i],muT,0,0, smuT)"
   ]
  },
  {
   "cell_type": "code",
   "execution_count": 201,
   "metadata": {
    "hidden": true
   },
   "outputs": [],
   "source": [
    "sigma_SP_sys = 0\n",
    "_ = fits.chi2_fit_func(day, SP, np.sqrt(sigma_SP**2+sigma_SP_sys**2), f_SP, [2900,.4,5], legend_loc = 7, Text_pos = [.6,.99], figsize = (13,8), \n",
    "                  xlabel = 't [day]', ylabel = 'SP', data_label = 'Data with uncertainties', \n",
    "                   fit_label= r'$\\chi^2$'+' fit of '+ r'$SP(t) = SP_0\\cdot R^{((t-t_0)/t_G)}$', save_plot = True,\n",
    "                      figname = 'img/fitting_cov1.png', dpi = 120, show_plot = False)"
   ]
  },
  {
   "cell_type": "code",
   "execution_count": 202,
   "metadata": {
    "hidden": true
   },
   "outputs": [],
   "source": [
    "sigma_SP_sys = 260\n",
    "_ = fits.chi2_fit_func(day, SP, np.sqrt(sigma_SP**2+sigma_SP_sys**2), f_SP, [2900,.4,5], legend_loc = 1, Text_pos = [.5,.7], figsize = (13,8), \n",
    "                  xlabel = 't [day]', ylabel = 'SP', data_label = 'Data statistical and systematic error', \n",
    "                   fit_label= r'$\\chi^2$'+' fit of '+ r'$SP(t) = SP_0\\cdot R^{((t-t_0)/t_G)}$', save_plot = True,\n",
    "                      figname = 'img/fitting_cov2.png', dpi = 120, legend_fs=19, text_fs = 18, show_plot = False)"
   ]
  },
  {
   "cell_type": "code",
   "execution_count": 203,
   "metadata": {
    "hidden": true
   },
   "outputs": [],
   "source": [
    "#Uncertainty on R\n",
    "from ExternalFunctions import Chi2Regression\n",
    "from iminuit import Minuit\n",
    "sigma_SP_sys = 0\n",
    "def f_SP(t, SP0, R, t0, tG): return SP0*R**((t-t0)/tG)\n",
    "fit_object = Chi2Regression(f_SP, day, SP, np.sqrt(sigma_SP**2+sigma_SP_sys**2), observed = False)\n",
    "minuit_obj = Minuit(fit_object, SP0 = 2800, R = 0.6, t0 = 2.1, tG= 4.7, error_tG = 1, pedantic=False, print_level = 0 )\n",
    "#minuit_obj.migrad()\n",
    "#minuit_obj.args, minuit_obj.errors"
   ]
  },
  {
   "cell_type": "markdown",
   "metadata": {
    "hidden": true
   },
   "source": [
    "\\begin{itemize}\n",
    "\n",
    "\\item The average number of tests was determined to be $\\mathbf{(83\\pm 4)\\cdot 10^3}\\,$.\n",
    "\n",
    "\\item To get an uncertainty on $SP$ the error from $\\overline{T}\\,$, $\\sigma_{\\overline{T}}$ is propagated which results in:\n",
    "\\begin{equation}\n",
    "\\sigma_{SP} = \\frac{P_i\\sigma_{\\overline{T}}}{\\overline{T}} \\left(\\frac{T_i}{ \\overline{T} }\\right)^{0.7}  \\sqrt{ 0.49  }\n",
    "\\end{equation}\n",
    "The fit results in a very low p-value and in large errors on the fit parameters, see figure below.\n",
    "![title](img/fitting_cov1.png)\n",
    "\\end{itemize}\n"
   ]
  },
  {
   "cell_type": "markdown",
   "metadata": {
    "hidden": true
   },
   "source": [
    "\\begin{itemize}\n",
    "\n",
    "\\item The systematic and the statistic errors are added in quadrature. The systematic error is increased until a reasonable p-value of 0.052, see figure below, is reached, which is the case for a systematic error of 260.\n",
    "\n",
    "![title](img/fitting_cov2.png)\n",
    "\n",
    "\\item If the uncertainy on $t_G$ is $\\pm 1\\,$ day, the error on R reduces to $\\mathbf{\\pm 1.59\\,}$. For this fit, no systematic uncertainty was added.\n",
    "\n",
    "\\end{itemize}"
   ]
  }
 ],
 "metadata": {
  "kernelspec": {
   "display_name": "Python 3",
   "language": "python",
   "name": "python3"
  },
  "language_info": {
   "codemirror_mode": {
    "name": "ipython",
    "version": 3
   },
   "file_extension": ".py",
   "mimetype": "text/x-python",
   "name": "python",
   "nbconvert_exporter": "python",
   "pygments_lexer": "ipython3",
   "version": "3.6.10"
  },
  "latex_envs": {
   "LaTeX_envs_menu_present": true,
   "autoclose": true,
   "autocomplete": true,
   "bibliofile": "biblio.bib",
   "cite_by": "number",
   "current_citInitial": 1,
   "eqLabelWithNumbers": true,
   "eqNumInitial": 1,
   "hotkeys": {
    "equation": "Ctrl-E",
    "itemize": "Ctrl-I"
   },
   "labels_anchors": true,
   "latex_user_defs": false,
   "report_style_numbering": true,
   "user_envs_cfg": false
  },
  "toc": {
   "base_numbering": 1,
   "nav_menu": {},
   "number_sections": true,
   "sideBar": true,
   "skip_h1_title": false,
   "title_cell": "Table of Contents",
   "title_sidebar": "Contents",
   "toc_cell": false,
   "toc_position": {},
   "toc_section_display": true,
   "toc_window_display": false
  },
  "varInspector": {
   "cols": {
    "lenName": 16,
    "lenType": 16,
    "lenVar": 40
   },
   "kernels_config": {
    "python": {
     "delete_cmd_postfix": "",
     "delete_cmd_prefix": "del ",
     "library": "var_list.py",
     "varRefreshCmd": "print(var_dic_list())"
    },
    "r": {
     "delete_cmd_postfix": ") ",
     "delete_cmd_prefix": "rm(",
     "library": "var_list.r",
     "varRefreshCmd": "cat(var_dic_list()) "
    }
   },
   "types_to_exclude": [
    "module",
    "function",
    "builtin_function_or_method",
    "instance",
    "_Feature"
   ],
   "window_display": false
  }
 },
 "nbformat": 4,
 "nbformat_minor": 4
}
