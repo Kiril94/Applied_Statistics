{
 "cells": [
  {
   "cell_type": "code",
   "execution_count": 10,
   "metadata": {},
   "outputs": [],
   "source": [
    "import numpy as np\n",
    "import importlib\n",
    "importlib.reload(as_toolbox)\n",
    "import fits\n",
    "from scipy import stats\n",
    "import matplotlib.pyplot as plt\n",
    "import as_toolbox"
   ]
  },
  {
   "cell_type": "code",
   "execution_count": 70,
   "metadata": {},
   "outputs": [
    {
     "data": {
      "text/plain": [
       "<ErrorbarContainer object of 3 artists>"
      ]
     },
     "execution_count": 70,
     "metadata": {},
     "output_type": "execute_result"
    },
    {
     "data": {
      "image/png": "[encoded data removed]",
      "text/plain": [
       "<Figure size 432x288 with 1 Axes>"
      ]
     },
     "metadata": {
      "needs_background": "light"
     },
     "output_type": "display_data"
    }
   ],
   "source": [
    "x_data = np.random.normal(size = 2000)\n",
    "x,y, sy, binwidth = fits.produce_hist_values(x_data, 100)\n",
    "def gauss_pdf(x,mu,sigma): return N*binwidth*stats.normal.pdf(x,mu,sigma)\n",
    "counts, bin_edges = np.histogram(x_data, bins='stone')\n",
    "x, binwidth = (bin_edges[1:] + bin_edges[:-1])/2, bin_edges[1]-bin_edges[0]\n",
    "y, sy = counts, np.sqrt(counts) #assume that the bin count is Poisson distributed.\n",
    "fig,ax = plt.subplots()\n",
    "ax.errorbar(x,y, sy, fmt = '.b')"
   ]
  },
  {
   "cell_type": "code",
   "execution_count": 64,
   "metadata": {},
   "outputs": [
    {
     "data": {
      "text/plain": [
       "array([-6.82944422,  0.21342013,  0.21342013,  0.21342013,  0.21342013,\n",
       "        0.21342013,  0.21342013,  0.21342013,  0.21342013,  0.21342013,\n",
       "        0.21342013,  0.21342013,  0.21342013,  0.21342013,  0.21342013,\n",
       "        0.21342013,  0.21342013,  0.21342013,  0.21342013,  0.21342013,\n",
       "        0.21342013,  0.21342013,  0.21342013,  0.21342013,  0.21342013,\n",
       "        0.21342013,  0.21342013,  0.21342013,  0.21342013,  0.21342013,\n",
       "        0.21342013,  0.21342013,  0.21342013])"
      ]
     },
     "execution_count": 64,
     "metadata": {},
     "output_type": "execute_result"
    }
   ],
   "source": [
    "x-np.roll(x,1)"
   ]
  },
  {
   "cell_type": "code",
   "execution_count": null,
   "metadata": {},
   "outputs": [],
   "source": [
    "\n"
   ]
  }
 ],
 "metadata": {
  "kernelspec": {
   "display_name": "Python 3",
   "language": "python",
   "name": "python3"
  },
  "language_info": {
   "codemirror_mode": {
    "name": "ipython",
    "version": 3
   },
   "file_extension": ".py",
   "mimetype": "text/x-python",
   "name": "python",
   "nbconvert_exporter": "python",
   "pygments_lexer": "ipython3",
   "version": "3.6.10"
  }
 },
 "nbformat": 4,
 "nbformat_minor": 4
}
