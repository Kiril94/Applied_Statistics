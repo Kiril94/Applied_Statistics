{
 "cells": [
  {
   "cell_type": "code",
   "execution_count": 9,
   "metadata": {},
   "outputs": [
    {
     "data": {
      "text/plain": [
       "<module 'as_toolbox' from 'D:\\\\Master\\\\Blok2\\\\Applied_Statistics\\\\Exam\\\\as_toolbox.py'>"
      ]
     },
     "execution_count": 9,
     "metadata": {},
     "output_type": "execute_result"
    }
   ],
   "source": [
    "import numpy as np\n",
    "import importlib\n",
    "from scipy import stats\n",
    "import fits, vis, as_toolbox #custom moduls\n",
    "import matplotlib.pyplot as plt\n",
    "from sklearn.discriminant_analysis import LinearDiscriminantAnalysis#Fisher discriminant\n",
    "from sklearn import metrics\n",
    "importlib.reload(as_toolbox)"
   ]
  },
  {
   "cell_type": "markdown",
   "metadata": {},
   "source": [
    "### Remember to multiply function by binwidth to get right results for chi2 fit\n",
    "### Use Ullh for low statistics (tails for example)\n",
    "### For Hypothesis testing use: metrics.plot_curve, metrics.RocCurveDisplay\n",
    "### For ML classification use sklearn.ensemble.AdaBoostClassifier\n",
    "### if N>20 or variance known z-test, else t-test (e.g. stats.ttest_rel)\n",
    "### In addition to chi2 one can check with WW runs test \n",
    "### statsmodels.sandbox.stats.runs.runstest_2samp"
   ]
  },
  {
   "cell_type": "code",
   "execution_count": 104,
   "metadata": {},
   "outputs": [],
   "source": [
    "def double_gauss_one_mean(x, N, f, mu, sig1, sig2):\n",
    "    return binwidth*N*(f*stats.norm.pdf(x,mu,sig1)+(1-f)*stats.norm.pdf(x,mu,sig2))\n",
    "def gauss(x,N,mu,sig): return binwidth*N*stats.norm.pdf(x,mu,sig)"
   ]
  },
  {
   "cell_type": "code",
   "execution_count": 105,
   "metadata": {},
   "outputs": [
    {
     "data": {
      "image/png": "[encoded data removed]",
      "text/plain": [
       "<Figure size 864x432 with 1 Axes>"
      ]
     },
     "metadata": {
      "needs_background": "light"
     },
     "output_type": "display_data"
    }
   ],
   "source": [
    "#simulate data\n",
    "Nbins = 50\n",
    "x_all = np.random.normal(size = 1000, loc = 0 ,scale = 1)\n",
    "x,y, sy, binwidth = vis.nice_histogram(x_all, Nbins, legend_loc = 1 )\n",
    "mask = y>0\n",
    "x,y,sy = x[mask], y[mask], sy[mask]"
   ]
  },
  {
   "cell_type": "code",
   "execution_count": 19,
   "metadata": {},
   "outputs": [
    {
     "data": {
      "text/plain": [
       "array([6, 2, 7, 0, 1, 1, 2, 0, 1, 1, 2, 0, 7, 1, 2, 8, 6, 7, 5, 1, 7, 8,\n",
       "       1, 7, 5, 6, 1, 6, 7, 6, 0, 5, 1, 0, 0, 6, 5, 3, 2, 3, 1, 4, 3, 8,\n",
       "       4, 0, 7, 8, 4, 6, 3, 2, 8, 3, 4, 0, 8, 6, 4, 3, 4, 2, 0, 8, 2, 5,\n",
       "       7, 5, 0, 5, 7, 6, 7, 6, 5, 3, 3, 3, 2, 7, 5, 3, 0, 4, 6, 1, 5, 8,\n",
       "       3, 2, 1, 1, 0, 6, 3, 8, 7, 5, 0, 6, 5, 6, 4, 4, 4, 8, 0, 4, 6, 0,\n",
       "       6, 2, 3, 7, 5, 3, 5, 2, 5, 5, 6, 6, 6, 4, 5, 7, 5, 2, 3, 4, 3, 5,\n",
       "       4, 4, 2, 2, 8, 7, 5, 6, 4, 0, 0, 3, 5, 3, 4, 5, 2, 3, 6, 0, 1, 1,\n",
       "       7, 3, 8, 5, 6, 0, 2, 4, 8, 2, 2, 2, 5, 7, 4, 4, 2, 1, 6, 0, 1, 5,\n",
       "       7, 6, 5, 2, 4, 8, 1, 4, 3, 6, 3, 3, 7, 4, 7, 0, 3, 2, 0, 5, 8, 0,\n",
       "       1, 5, 3, 8, 5, 2, 5, 8, 2, 4, 0, 0, 1, 3, 4, 1, 8, 6, 5, 5, 3, 6,\n",
       "       1, 7, 4, 6, 3, 8, 7, 8, 6, 6, 2, 1, 2, 7, 3, 1, 6, 6, 2, 5, 8, 2,\n",
       "       4, 7, 5, 3, 2, 1, 3, 0, 8, 0, 4, 8, 0, 7, 8, 2, 3, 5, 7, 0, 3, 0,\n",
       "       6, 1, 4, 0, 0, 2, 0, 3, 0, 0, 7, 7, 3, 8, 6, 5, 6, 6, 1, 2, 8, 8,\n",
       "       5, 5, 1, 8, 4, 4, 3, 8, 7, 8, 7, 0, 5, 8, 5, 6, 6, 7, 8, 8, 5, 8,\n",
       "       4, 8, 1, 3, 2, 1, 1, 5, 2, 4, 0, 7, 3, 5, 4, 8, 3, 1, 4, 5, 5, 8,\n",
       "       5, 6, 2, 8, 1, 7, 7, 4, 1, 1, 4, 3, 0, 1, 6, 6, 2, 8, 1, 7, 6, 2,\n",
       "       5, 7, 7, 3, 4, 0, 2, 0, 7, 7, 4, 0, 6, 0, 7, 6, 8, 6, 2, 7, 7, 2,\n",
       "       5, 3, 7, 5, 2, 7, 4, 0, 2, 0, 4, 2, 8, 4, 3, 4, 8, 5, 1, 8, 7, 7,\n",
       "       7, 3, 2, 0, 1, 1, 1, 5, 6, 7, 6, 4, 8, 5, 7, 2, 6, 1, 5, 6, 4, 8,\n",
       "       1, 1, 1, 1, 5, 3, 8, 5, 7, 5, 8, 2, 8, 0, 0, 6, 1, 1, 0, 0, 8, 3,\n",
       "       1, 4, 5, 1, 7, 7, 1, 5, 2, 8, 4, 7, 8, 0, 5, 5, 3, 3, 7, 7, 6, 0,\n",
       "       2, 1, 3, 3, 0, 4, 5, 0, 6, 4, 0, 5, 8, 1, 3, 2, 0, 5, 0, 2, 6, 7,\n",
       "       2, 3, 8, 1, 8, 1, 5, 7, 8, 4, 2, 5, 1, 6, 6, 4, 8, 4, 8, 8, 6, 3,\n",
       "       4, 4, 4, 3, 3, 5, 6, 1, 2, 3, 8, 1, 3, 7, 3, 4, 7, 1, 3, 4, 3, 6,\n",
       "       2, 0, 6, 1, 1, 1, 6, 5, 6, 1, 2, 1, 2, 8, 7, 6, 0, 5, 0, 7, 5, 7,\n",
       "       4, 7, 5, 3, 6, 2, 7, 0, 8, 2, 8, 7, 0, 2, 5, 3, 0, 0, 2, 2, 2, 0,\n",
       "       5, 8, 4, 1, 0, 3, 6, 7, 4, 4, 3, 4, 8, 0, 4, 6, 1, 5, 6, 6, 1, 5,\n",
       "       1, 6, 2, 3, 6, 4, 7, 5, 0, 8, 0, 6, 5, 2, 1, 4, 5, 8, 0, 5, 7, 4,\n",
       "       8, 1, 1, 4, 7, 1, 4, 4, 5, 5, 0, 8, 2, 2, 4, 4, 5, 5, 5, 0, 2, 0,\n",
       "       1, 8, 1, 7, 6, 6, 0, 4, 5, 2, 0, 2, 6, 5, 0, 3, 6, 7, 5, 2, 7, 7,\n",
       "       3, 4, 3, 3, 3, 6, 6, 0, 2, 6, 2, 6, 2, 3, 7, 8, 1, 7, 3, 6, 7, 2,\n",
       "       5, 3, 7, 3, 8, 2, 5, 3, 0, 1, 4, 6, 3, 1, 2, 8, 5, 0, 6, 6, 8, 1,\n",
       "       0, 0, 0, 5, 1, 8, 0, 0, 6, 8, 7, 1, 5, 5, 7, 8, 5, 1, 4, 8, 1, 0,\n",
       "       1, 3, 0, 5, 8, 0, 4, 5, 0, 4, 0, 4, 2, 1, 8, 1, 7, 4, 5, 4, 0, 5,\n",
       "       8, 6, 2, 1, 6, 8, 3, 2, 3, 4, 3, 7, 7, 8, 8, 6, 4, 7, 1, 4, 1, 2,\n",
       "       6, 1, 6, 6, 6, 6, 1, 6, 2, 5, 3, 0, 7, 5, 3, 7, 1, 8, 3, 0, 0, 0,\n",
       "       5, 7, 1, 5, 1, 5, 3, 7, 4, 2, 2, 7, 1, 5, 7, 3, 8, 7, 1, 5, 5, 4,\n",
       "       0, 1, 8, 4, 7, 5, 2, 7, 7, 7, 7, 5, 2, 5, 2, 6, 1, 1, 7, 1, 2, 6,\n",
       "       7, 0, 0, 6, 4, 1, 2, 3, 5, 0, 2, 4, 8, 8, 3, 5, 8, 3, 6, 4, 4, 0,\n",
       "       5, 5, 3, 8, 6, 6, 7, 5, 6, 6, 3, 3, 6, 3, 0, 1, 1, 5, 0, 4, 4, 8,\n",
       "       3, 3, 3, 8, 0, 4, 8, 7, 6, 3, 0, 7, 4, 3, 4, 4, 7, 2, 7, 7, 1, 8,\n",
       "       1, 7, 1, 5, 0, 2, 1, 7, 8, 2, 4, 8, 2, 5, 1, 6, 6, 3, 8, 1, 2, 6,\n",
       "       3, 2, 4, 5, 5, 7, 2, 5, 0, 7, 8, 0, 8, 5, 2, 2, 0, 0, 5, 3, 1, 5,\n",
       "       6, 2, 3, 4, 2, 8, 3, 5, 6, 4, 5, 3, 8, 0, 2, 8, 4, 5, 7, 1, 7, 8,\n",
       "       6, 5, 0, 5, 3, 0, 8, 6, 0, 3, 7, 4, 5, 0, 1, 0, 5, 1, 3, 3, 5, 3,\n",
       "       3, 7, 6, 6, 5, 0, 5, 4, 7, 0])"
      ]
     },
     "execution_count": 19,
     "metadata": {},
     "output_type": "execute_result"
    }
   ],
   "source": [
    "arr"
   ]
  },
  {
   "cell_type": "code",
   "execution_count": 55,
   "metadata": {},
   "outputs": [
    {
     "data": {
      "text/plain": [
       "0.7335684642092131"
      ]
     },
     "execution_count": 55,
     "metadata": {},
     "output_type": "execute_result"
    }
   ],
   "source": [
    "table = np.array([[2,2],[2,2]])\n",
    "stats.fisher_exact(table)\n",
    "arr = np.random.randint(10,size = 10000)\n",
    "as_toolbox.runsTest(arr)"
   ]
  }
 ],
 "metadata": {
  "kernelspec": {
   "display_name": "Python 3",
   "language": "python",
   "name": "python3"
  },
  "language_info": {
   "codemirror_mode": {
    "name": "ipython",
    "version": 3
   },
   "file_extension": ".py",
   "mimetype": "text/x-python",
   "name": "python",
   "nbconvert_exporter": "python",
   "pygments_lexer": "ipython3",
   "version": "3.6.10"
  }
 },
 "nbformat": 4,
 "nbformat_minor": 4
}
