{
 "cells": [
  {
   "cell_type": "code",
   "execution_count": 58,
   "metadata": {},
   "outputs": [],
   "source": [
    "import numpy as np\n",
    "from scipy import special\n",
    "import matplotlib.pyplot as plt\n",
    "import plot"
   ]
  },
  {
   "cell_type": "markdown",
   "metadata": {},
   "source": [
    "# I. Distributions and probability "
   ]
  },
  {
   "cell_type": "markdown",
   "metadata": {},
   "source": [
    "## 1.1 El classico\n",
    "The probability is described by the binomial distribution"
   ]
  },
  {
   "cell_type": "code",
   "execution_count": 11,
   "metadata": {},
   "outputs": [],
   "source": [
    "n, k = 144, int(144/2)\n",
    "p = special.comb(n,k)*.5**k*.5**(n-k)"
   ]
  },
  {
   "cell_type": "markdown",
   "metadata": {},
   "source": [
    "### 1.2 Golf "
   ]
  },
  {
   "cell_type": "markdown",
   "metadata": {},
   "source": [
    "Probably cumulative distribution needed "
   ]
  },
  {
   "cell_type": "code",
   "execution_count": 35,
   "metadata": {},
   "outputs": [
    {
     "data": {
      "text/plain": [
       "0"
      ]
     },
     "execution_count": 35,
     "metadata": {},
     "output_type": "execute_result"
    }
   ],
   "source": [
    "p_hit = 0.054\n",
    "n_arr = np.arange(1,1000)\n",
    "Acc_prob = n_arr*p_hit*(1-p_hit)**(n_arr-1)\n",
    "np.argmax(Acc_prob>.9)"
   ]
  },
  {
   "cell_type": "markdown",
   "metadata": {},
   "source": [
    "# II. Error propagation "
   ]
  },
  {
   "cell_type": "markdown",
   "metadata": {},
   "source": [
    "## 2.1 Hubble constant "
   ]
  },
  {
   "cell_type": "code",
   "execution_count": 25,
   "metadata": {},
   "outputs": [],
   "source": [
    "h_mean = np.array([73.5, 74.0, 73.3, 75.0, 67.6, 70.4, 67.66])\n",
    "h_err = np.array([1.4, 1.4, 1.8, 2.0, .7, 1.4, .42])"
   ]
  },
  {
   "cell_type": "markdown",
   "metadata": {},
   "source": [
    "- weighted average"
   ]
  },
  {
   "cell_type": "code",
   "execution_count": 30,
   "metadata": {},
   "outputs": [
    {
     "name": "stdout",
     "output_type": "stream",
     "text": [
      "68.78925107187163\n"
     ]
    }
   ],
   "source": [
    "def weighted_avg(mean, sigma): return np.sum(mean/sigma**2)/np.sum(1/sigma**2)\n",
    "h_wavg = weighted_avg(h_mean, h_err)\n",
    "print(h_wavg)"
   ]
  },
  {
   "cell_type": "markdown",
   "metadata": {},
   "source": [
    "The values do not agree with each other"
   ]
  },
  {
   "cell_type": "markdown",
   "metadata": {},
   "source": [
    "- values from same method "
   ]
  },
  {
   "cell_type": "code",
   "execution_count": 34,
   "metadata": {},
   "outputs": [
    {
     "name": "stdout",
     "output_type": "stream",
     "text": [
      "73.85994654752882 67.8151724137931\n"
     ]
    }
   ],
   "source": [
    "h_wavg1 = weighted_avg(h_mean[:4], h_err[:4])\n",
    "h_wavg2 = weighted_avg(h_mean[4:], h_err[4:])\n",
    "print(h_wavg1, h_wavg2)"
   ]
  },
  {
   "cell_type": "markdown",
   "metadata": {},
   "source": [
    "The values do agree with each other "
   ]
  },
  {
   "cell_type": "markdown",
   "metadata": {},
   "source": [
    "## 2.2 Coulomb "
   ]
  },
  {
   "cell_type": "markdown",
   "metadata": {},
   "source": [
    "- Find $q_0$ "
   ]
  },
  {
   "cell_type": "code",
   "execution_count": 38,
   "metadata": {},
   "outputs": [],
   "source": [
    "k_e, Q = 8.99e9, 1e-9\n",
    "F, dF = .87, .08\n",
    "d, dd = .0045, .0003"
   ]
  },
  {
   "cell_type": "markdown",
   "metadata": {},
   "source": [
    "Gaussian error propagation results in: "
   ]
  },
  {
   "cell_type": "code",
   "execution_count": 41,
   "metadata": {},
   "outputs": [
    {
     "name": "stdout",
     "output_type": "stream",
     "text": [
      "0.000522 0.00035999999999999997\n"
     ]
    }
   ],
   "source": [
    "dq0 = d/(k_e*Q)*np.sqrt((2*F*dd)**2+(d*dF)**2)\n",
    "print(2*F*dd, d*dF)"
   ]
  },
  {
   "cell_type": "markdown",
   "metadata": {},
   "source": [
    "- The greater error results from the uncertainty in d "
   ]
  },
  {
   "cell_type": "markdown",
   "metadata": {},
   "source": [
    "- where is the charge most porecisely\\\n",
    "Not sure about this point "
   ]
  },
  {
   "cell_type": "code",
   "execution_count": 52,
   "metadata": {},
   "outputs": [
    {
     "name": "stdout",
     "output_type": "stream",
     "text": [
      "0.00011859844977151129 -0.00026997844977151125\n"
     ]
    }
   ],
   "source": [
    "dF2, dd2 = .01, .0001\n",
    "dq02 = d/(k_e*Q)*np.sqrt((2*F*dd2)**2+(d*dF2)**2)\n",
    "z1 = (-(2*F*dd2)**2+np.sqrt((2*F*dd2)**4+4*(dF2*dq02*Q*k_e)**2))/(2*dF2)**2\n",
    "z2 =(-(2*F*dd2)**2-np.sqrt((2*F*dd2)**4+4*(dF2*dq02*Q*k_e)**2))/(2*dF2)**2\n",
    "print(z1, z2)"
   ]
  },
  {
   "cell_type": "code",
   "execution_count": 53,
   "metadata": {},
   "outputs": [
    {
     "data": {
      "text/plain": [
       "0.01089029153748931"
      ]
     },
     "execution_count": 53,
     "metadata": {},
     "output_type": "execute_result"
    }
   ],
   "source": [
    "d_prec = np.sqrt(z1)\n",
    "d_prec"
   ]
  },
  {
   "cell_type": "markdown",
   "metadata": {},
   "source": [
    "## 2.3 Neanderthal DNA "
   ]
  },
  {
   "cell_type": "code",
   "execution_count": 56,
   "metadata": {},
   "outputs": [],
   "source": [
    "DNA = np.loadtxt(\"DNA.txt\")\n"
   ]
  }
 ],
 "metadata": {
  "kernelspec": {
   "display_name": "Python 3",
   "language": "python",
   "name": "python3"
  },
  "language_info": {
   "codemirror_mode": {
    "name": "ipython",
    "version": 3
   },
   "file_extension": ".py",
   "mimetype": "text/x-python",
   "name": "python",
   "nbconvert_exporter": "python",
   "pygments_lexer": "ipython3",
   "version": "3.6.10"
  }
 },
 "nbformat": 4,
 "nbformat_minor": 4
}
