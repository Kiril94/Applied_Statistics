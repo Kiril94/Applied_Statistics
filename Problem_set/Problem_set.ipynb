{
 "cells": [
  {
   "cell_type": "code",
   "execution_count": 186,
   "metadata": {},
   "outputs": [],
   "source": [
    "import numpy as np\n",
    "from scipy import special\n",
    "import matplotlib.pyplot as plt\n",
    "import seaborn as sns\n",
    "import sklearn.metrics\n",
    "from scipy import stats\n",
    "from scipy import optimize as opt"
   ]
  },
  {
   "cell_type": "markdown",
   "metadata": {},
   "source": [
    "# I. Distributions and probability "
   ]
  },
  {
   "cell_type": "markdown",
   "metadata": {},
   "source": [
    "## 1.1 El classico\n",
    "The probability is described by the binomial distribution"
   ]
  },
  {
   "cell_type": "code",
   "execution_count": 2,
   "metadata": {},
   "outputs": [],
   "source": [
    "n, k = 144, int(144/2)\n",
    "p = special.comb(n,k)*.5**k*.5**(n-k)"
   ]
  },
  {
   "cell_type": "markdown",
   "metadata": {},
   "source": [
    "### 1.2 Golf "
   ]
  },
  {
   "cell_type": "markdown",
   "metadata": {},
   "source": [
    "Probably cumulative distribution needed "
   ]
  },
  {
   "cell_type": "code",
   "execution_count": 3,
   "metadata": {},
   "outputs": [
    {
     "data": {
      "text/plain": [
       "0"
      ]
     },
     "execution_count": 3,
     "metadata": {},
     "output_type": "execute_result"
    }
   ],
   "source": [
    "p_hit = 0.054\n",
    "n_arr = np.arange(1,1000)\n",
    "Acc_prob = n_arr*p_hit*(1-p_hit)**(n_arr-1)\n",
    "np.argmax(Acc_prob>.9)"
   ]
  },
  {
   "cell_type": "markdown",
   "metadata": {},
   "source": [
    "# II. Error propagation "
   ]
  },
  {
   "cell_type": "markdown",
   "metadata": {},
   "source": [
    "## 2.1 Hubble constant "
   ]
  },
  {
   "cell_type": "code",
   "execution_count": 4,
   "metadata": {},
   "outputs": [],
   "source": [
    "h_mean = np.array([73.5, 74.0, 73.3, 75.0, 67.6, 70.4, 67.66])\n",
    "h_err = np.array([1.4, 1.4, 1.8, 2.0, .7, 1.4, .42])"
   ]
  },
  {
   "cell_type": "markdown",
   "metadata": {},
   "source": [
    "- weighted average"
   ]
  },
  {
   "cell_type": "code",
   "execution_count": 5,
   "metadata": {},
   "outputs": [
    {
     "name": "stdout",
     "output_type": "stream",
     "text": [
      "68.78925107187163\n"
     ]
    }
   ],
   "source": [
    "def weighted_avg(mean, sigma): return np.sum(mean/sigma**2)/np.sum(1/sigma**2)\n",
    "h_wavg = weighted_avg(h_mean, h_err)\n",
    "print(h_wavg)"
   ]
  },
  {
   "cell_type": "markdown",
   "metadata": {},
   "source": [
    "The values do not agree with each other"
   ]
  },
  {
   "cell_type": "markdown",
   "metadata": {},
   "source": [
    "- values from same method "
   ]
  },
  {
   "cell_type": "code",
   "execution_count": 6,
   "metadata": {},
   "outputs": [
    {
     "name": "stdout",
     "output_type": "stream",
     "text": [
      "73.85994654752882 67.8151724137931\n"
     ]
    }
   ],
   "source": [
    "h_wavg1 = weighted_avg(h_mean[:4], h_err[:4])\n",
    "h_wavg2 = weighted_avg(h_mean[4:], h_err[4:])\n",
    "print(h_wavg1, h_wavg2)"
   ]
  },
  {
   "cell_type": "markdown",
   "metadata": {},
   "source": [
    "The values do agree with each other "
   ]
  },
  {
   "cell_type": "markdown",
   "metadata": {},
   "source": [
    "## 2.2 Coulomb "
   ]
  },
  {
   "cell_type": "markdown",
   "metadata": {},
   "source": [
    "- Find $q_0$ "
   ]
  },
  {
   "cell_type": "code",
   "execution_count": 7,
   "metadata": {},
   "outputs": [],
   "source": [
    "k_e, Q = 8.99e9, 1e-9\n",
    "F, dF = .87, .08\n",
    "d, dd = .0045, .0003"
   ]
  },
  {
   "cell_type": "markdown",
   "metadata": {},
   "source": [
    "Gaussian error propagation results in: "
   ]
  },
  {
   "cell_type": "code",
   "execution_count": 8,
   "metadata": {},
   "outputs": [
    {
     "name": "stdout",
     "output_type": "stream",
     "text": [
      "0.000522 0.00035999999999999997\n"
     ]
    }
   ],
   "source": [
    "dq0 = d/(k_e*Q)*np.sqrt((2*F*dd)**2+(d*dF)**2)\n",
    "print(2*F*dd, d*dF)"
   ]
  },
  {
   "cell_type": "markdown",
   "metadata": {},
   "source": [
    "- The greater error results from the uncertainty in d "
   ]
  },
  {
   "cell_type": "markdown",
   "metadata": {},
   "source": [
    "- where is the charge most porecisely\\\n",
    "Not sure about this point "
   ]
  },
  {
   "cell_type": "code",
   "execution_count": 9,
   "metadata": {},
   "outputs": [
    {
     "name": "stdout",
     "output_type": "stream",
     "text": [
      "1.0124999999999999e-05 -0.000161505\n"
     ]
    }
   ],
   "source": [
    "dF2, dd2 = .01, .0001\n",
    "dq02 = d/(k_e*Q)*np.sqrt((2*F*dd2)**2+(d*dF2)**2)\n",
    "z1 = (-(2*F*dd2)**2+np.sqrt((2*F*dd2)**4+4*(dF2*dq02*Q*k_e)**2))/(2*dF2)**2\n",
    "z2 =(-(2*F*dd2)**2-np.sqrt((2*F*dd2)**4+4*(dF2*dq02*Q*k_e)**2))/(2*dF2)**2\n",
    "print(z1, z2)"
   ]
  },
  {
   "cell_type": "code",
   "execution_count": 10,
   "metadata": {},
   "outputs": [
    {
     "data": {
      "text/plain": [
       "0.003181980515339464"
      ]
     },
     "execution_count": 10,
     "metadata": {},
     "output_type": "execute_result"
    }
   ],
   "source": [
    "d_prec = np.sqrt(z1)\n",
    "d_prec"
   ]
  },
  {
   "cell_type": "markdown",
   "metadata": {},
   "source": [
    "## 2.3 Neanderthal DNA "
   ]
  },
  {
   "cell_type": "code",
   "execution_count": 57,
   "metadata": {},
   "outputs": [
    {
     "name": "stdout",
     "output_type": "stream",
     "text": [
      "1.1262560116535557e-05\n"
     ]
    }
   ],
   "source": [
    "DNA = np.loadtxt(\"DNA.txt\")\n",
    "mean = np.mean(DNA)\n",
    "RMS = np.sum((DNA-mean)**2)/len(DNA)\n",
    "print(RMS)"
   ]
  },
  {
   "cell_type": "markdown",
   "metadata": {},
   "source": [
    "Three peaks each gaussian distributed "
   ]
  },
  {
   "cell_type": "code",
   "execution_count": 60,
   "metadata": {},
   "outputs": [
    {
     "data": {
      "image/png": "[encoded data removed]",
      "text/plain": [
       "<Figure size 576x288 with 1 Axes>"
      ]
     },
     "metadata": {
      "needs_background": "light"
     },
     "output_type": "display_data"
    }
   ],
   "source": [
    "DNA_mask = DNA >.015\n",
    "DNA2 = DNA[DNA_mask]\n",
    "# Fit a normal distribution to the data:\n",
    "mu, std = stats.norm.fit(DNA2)\n",
    "plt.figure(figsize=(8,4))\n",
    "plt.hist(DNA2, bins=120, density=True, alpha=0.6, color='g') # Plot the histogram.\n",
    "xmin, xmax = plt.xlim()\n",
    "x = np.linspace(xmin, xmax, 100)\n",
    "p = stats.norm.pdf(x, mu, std)\n",
    "plt.plot(x, p, '-.r', linewidth=2)\n",
    "title = \"Fit results: mu = %.3f,  std = %.2e\" % (mu, std)\n",
    "plt.title(title)\n",
    "plt.show()"
   ]
  },
  {
   "cell_type": "markdown",
   "metadata": {},
   "source": [
    "Comment on the fits "
   ]
  },
  {
   "cell_type": "markdown",
   "metadata": {},
   "source": [
    "# III. Monte Carlo"
   ]
  },
  {
   "cell_type": "markdown",
   "metadata": {},
   "source": [
    "## 3.1 "
   ]
  },
  {
   "cell_type": "markdown",
   "metadata": {},
   "source": [
    "Normalize:\\\n",
    "$\\int_{1}^{10}dx\\;C\\cdot(c_1+x^{c_2})=1\\\\\n",
    "\\leftrightarrow C\\cdot \\big[ 50 - 5 + 1/3\\cdot(10^3-1)\\big]=1\\\\\n",
    "\\leftrightarrow C = 1/378$"
   ]
  },
  {
   "cell_type": "code",
   "execution_count": 214,
   "metadata": {},
   "outputs": [],
   "source": [
    "C = 1/378\n",
    "c1,c2 = 5,2\n",
    "class my_pdf(stats.rv_continuous):\n",
    "    def _pdf(self,x,c1,c2):\n",
    "        return C*(c1+x**c2)  # Normalized over its range, in this case [1,10]\n",
    "\n",
    "my_cv = my_pdf(a=1, b=10, name='my_pdf')\n",
    "x_arr = my_cv.rvs(size = 5000, c1 =c1, c2 =c2)"
   ]
  },
  {
   "cell_type": "markdown",
   "metadata": {},
   "source": [
    "### Compute mean and RMS\n",
    "- analytically\n",
    "$\\\\ \\overline{x} = C\\cdot \\int_1^{10}dx\\,x\\cdot f(x) = C \\cdot \\big(5/2\\cdot 99 + 1/4\\cdot 9999\\big)\\\\\n",
    "\\overline{x^2} = C\\cdot \\int_1^{10}dx\\,x^2\\cdot f(x) = C\\cdot \\big(5/3\\cdot 999+1/5\\cdot 99999\\big)\\\\\n",
    "RMS = \\sqrt{\\overline{x^2}-\\overline{x}^2}$\n",
    "- MC"
   ]
  },
  {
   "cell_type": "code",
   "execution_count": 215,
   "metadata": {},
   "outputs": [
    {
     "data": {
      "text/plain": [
       "(7.267857142857142, 2.1195608661480168)"
      ]
     },
     "execution_count": 215,
     "metadata": {},
     "output_type": "execute_result"
    }
   ],
   "source": [
    "mean_f = C * (5/2*99+1/4*9999)\n",
    "sec_mom_f = C*(5/3*999+1/5*99999)\n",
    "RMS_f = np.sqrt(sec_mom_f-mean_f**2)\n",
    "mean_f, RMS_f"
   ]
  },
  {
   "cell_type": "code",
   "execution_count": 216,
   "metadata": {},
   "outputs": [
    {
     "data": {
      "text/plain": [
       "(7.270208894812458, 2.08706775771805)"
      ]
     },
     "execution_count": 216,
     "metadata": {},
     "output_type": "execute_result"
    }
   ],
   "source": [
    "mean_MC = np.mean(x_arr) \n",
    "RMS_MC = np.sqrt(np.sum((x_arr-mean_MC)**2)/len(x_arr))\n",
    "mean_MC, RMS_MC"
   ]
  },
  {
   "cell_type": "code",
   "execution_count": 217,
   "metadata": {},
   "outputs": [
    {
     "data": {
      "text/plain": [
       "<AxesSubplot:>"
      ]
     },
     "execution_count": 217,
     "metadata": {},
     "output_type": "execute_result"
    },
    {
     "data": {
      "image/png": "[encoded data removed]",
      "text/plain": [
       "<Figure size 432x288 with 1 Axes>"
      ]
     },
     "metadata": {
      "needs_background": "light"
     },
     "output_type": "display_data"
    }
   ],
   "source": [
    "sns.distplot(x_arr)"
   ]
  },
  {
   "cell_type": "code",
   "execution_count": 218,
   "metadata": {},
   "outputs": [
    {
     "data": {
      "text/plain": [
       "-0.772416076520305"
      ]
     },
     "execution_count": 218,
     "metadata": {},
     "output_type": "execute_result"
    }
   ],
   "source": [
    "y_arr =  x_arr*np.exp(-x_arr)\n",
    "correlation = np.corrcoef(x_arr,y_arr)\n",
    "correlation[0,1]"
   ]
  },
  {
   "cell_type": "markdown",
   "metadata": {},
   "source": [
    "doesn't work for some reason\n",
    "should return fitted params and loc and scale"
   ]
  },
  {
   "cell_type": "code",
   "execution_count": 220,
   "metadata": {},
   "outputs": [
    {
     "data": {
      "text/plain": [
       "(0.021747264141457313, 6.513092294524204)"
      ]
     },
     "execution_count": 220,
     "metadata": {},
     "output_type": "execute_result"
    }
   ],
   "source": [
    "c1fit, c2fit, loc, scale = my_cv.fit(x_arr, 5 ,2)\n",
    "c1fit, c2fit"
   ]
  },
  {
   "cell_type": "markdown",
   "metadata": {},
   "source": [
    "# IV. Statistical Tests "
   ]
  },
  {
   "cell_type": "markdown",
   "metadata": {},
   "source": [
    "## 4.1 "
   ]
  },
  {
   "cell_type": "markdown",
   "metadata": {},
   "source": [
    "- Selecting P-cells (l<9) and counting error type I and type II rate "
   ]
  },
  {
   "cell_type": "code",
   "execution_count": 228,
   "metadata": {},
   "outputs": [
    {
     "data": {
      "text/plain": [
       "(0.09707686755683868, 0.9029231324431614)"
      ]
     },
     "execution_count": 228,
     "metadata": {},
     "output_type": "execute_result"
    }
   ],
   "source": [
    "cells = np.loadtxt(\"data_cells.txt\")\n",
    "mask_P = cells[:,1]<9\n",
    "P_cells = cells[mask_P]\n",
    "P_cells_I = np.sum(P_cells[:,0])/len(P_cells)\n",
    "P_cells_II = (len(P_cells)-np.sum(P_cells[:,0]))/len(P_cells)\n",
    "P_cells_I, P_cells_II"
   ]
  },
  {
   "cell_type": "code",
   "execution_count": 244,
   "metadata": {},
   "outputs": [
    {
     "data": {
      "image/png": "[encoded data removed]",
      "text/plain": [
       "<Figure size 432x288 with 1 Axes>"
      ]
     },
     "metadata": {
      "needs_background": "light"
     },
     "output_type": "display_data"
    }
   ],
   "source": [
    "sns.distplot(cells[cells[:,0]==1][:,2],label =  \"Type I\")\n",
    "sns.distplot(cells[cells[:,0]==0][:,2], label = \"Type II\")\n",
    "plt.legend()\n",
    "plt.xlabel('Transparency')\n",
    "plt.show()"
   ]
  },
  {
   "cell_type": "code",
   "execution_count": 245,
   "metadata": {},
   "outputs": [
    {
     "data": {
      "image/png": "[encoded data removed]",
      "text/plain": [
       "<Figure size 432x288 with 1 Axes>"
      ]
     },
     "metadata": {
      "needs_background": "light"
     },
     "output_type": "display_data"
    }
   ],
   "source": [
    "sns.distplot(cells[cells[:,0]==1][:,1],label =  \"Type I\")\n",
    "sns.distplot(cells[cells[:,0]==0][:,1], label = \"Type II\")\n",
    "plt.legend()\n",
    "plt.xlabel('length')\n",
    "plt.show()"
   ]
  },
  {
   "cell_type": "code",
   "execution_count": 249,
   "metadata": {},
   "outputs": [
    {
     "data": {
      "text/plain": [
       "(0.8415776123141836, 0.7402420921027675)"
      ]
     },
     "execution_count": 249,
     "metadata": {},
     "output_type": "execute_result"
    }
   ],
   "source": [
    "corr_transp = np.corrcoef(cells[:,2],cells[:,0])\n",
    "corr_len = np.corrcoef(cells[:,1],cells[:,0])\n",
    "corr_transp[0,1], corr_len[0,1]"
   ]
  }
 ],
 "metadata": {
  "kernelspec": {
   "display_name": "Python 3",
   "language": "python",
   "name": "python3"
  },
  "language_info": {
   "codemirror_mode": {
    "name": "ipython",
    "version": 3
   },
   "file_extension": ".py",
   "mimetype": "text/x-python",
   "name": "python",
   "nbconvert_exporter": "python",
   "pygments_lexer": "ipython3",
   "version": "3.6.10"
  }
 },
 "nbformat": 4,
 "nbformat_minor": 4
}
